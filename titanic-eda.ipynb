{
 "cells": [
  {
   "cell_type": "markdown",
   "id": "66575392",
   "metadata": {
    "papermill": {
     "duration": 0.013194,
     "end_time": "2024-04-08T04:06:03.191038",
     "exception": false,
     "start_time": "2024-04-08T04:06:03.177844",
     "status": "completed"
    },
    "tags": []
   },
   "source": [
    "The Titanic dataset is a classic dataset used for machine learning and data analysis. It contains information about passengers who were aboard the RMS Titanic when it sank on its maiden voyage in 1912, including whether they survived or not. The dataset includes features such as passenger class, sex, age, siblings/spouses aboard, parents/children aboard, ticket number, fare, cabin number, and port of embarkation.\n",
    "\n",
    "Researchers and data scientists often use this dataset to explore various aspects of the Titanic tragedy, such as the demographics of the passengers, factors that affected survival rates. It is a popular dataset for beginners in data science due to its relative simplicity."
   ]
  },
  {
   "cell_type": "markdown",
   "id": "d860302d",
   "metadata": {
    "papermill": {
     "duration": 0.012307,
     "end_time": "2024-04-08T04:06:03.216239",
     "exception": false,
     "start_time": "2024-04-08T04:06:03.203932",
     "status": "completed"
    },
    "tags": []
   },
   "source": [
    "**Column Profiling:**\n",
    "1. **PassengerId:**\n",
    "*     Data type: Integer\n",
    "*     Unique values: Identifies each passenger uniquely.\n",
    "2. **Survived:**\n",
    "*   Data type: Integer (0 or 1)\n",
    "*    Distribution: Number of passengers who survived (1) vs. those who did not (0). \n",
    "3. **Pclass:**\n",
    "*    Data type: Integer (1, 2, or 3)\n",
    "*    Distribution: Distribution of passengers across different classes (1st, 2nd, 3rd).\n",
    "4. **Name:**\n",
    "*    Data type: String\n",
    "*    Unique values: Each value is unique.\n",
    "5. **Sex:**\n",
    "*    Data type: String (male or female)\n",
    "*    Distribution: Number of male vs. female passengers.\n",
    "*    Summary: Gender of the passenger.\n",
    "6. **Age:**\n",
    "*    Data type: Float\n",
    "*    Missing values: Number of missing values.\n",
    "*    Summary: Age of the passenger.\n",
    "7. **SibSp:**\n",
    "*    Data type: Integer\n",
    "*    Distribution: Number of siblings/spouses aboard.\n",
    "*    Summary: Indicates the presence of siblings or spouses.\n",
    "8. **Parch:**\n",
    "*    Data type: Integer\n",
    "*    Distribution: Number of parents/children aboard.\n",
    "*    Summary: Indicates the presence of parents or children.\n",
    "9. **Ticket:**\n",
    "*    Data type: String\n",
    "*    Unique values: Number of unique ticket numbers.\n",
    "*    Summary: Ticket number of the passenger.\n",
    "10. **Fare:**\n",
    "*    Data type: Float\n",
    "*    Summary: Fare paid by the passenger.\n",
    "11. **Cabin:**\n",
    "*    Data type: String\n",
    "*    Missing values: Number of missing values.\n",
    "*    Summary: Cabin number of the passenger.\n",
    "12. **Embarked:**\n",
    "*    Data type: String Category (C, Q, S)\n",
    "*    Distribution: Number of passengers embarked at each port.\n",
    "*    Missing values: Number of missing values.\n",
    "*    Summary: Port of embarkation."
   ]
  },
  {
   "cell_type": "code",
   "execution_count": 1,
   "id": "b585e7b1",
   "metadata": {
    "execution": {
     "iopub.execute_input": "2024-04-08T04:06:03.244834Z",
     "iopub.status.busy": "2024-04-08T04:06:03.244168Z",
     "iopub.status.idle": "2024-04-08T04:06:05.975161Z",
     "shell.execute_reply": "2024-04-08T04:06:05.974169Z"
    },
    "papermill": {
     "duration": 2.747243,
     "end_time": "2024-04-08T04:06:05.977399",
     "exception": false,
     "start_time": "2024-04-08T04:06:03.230156",
     "status": "completed"
    },
    "tags": []
   },
   "outputs": [
    {
     "name": "stdout",
     "output_type": "stream",
     "text": [
      "/kaggle/input/titanic/train.csv\n",
      "/kaggle/input/titanic/test.csv\n",
      "/kaggle/input/titanic/gender_submission.csv\n"
     ]
    }
   ],
   "source": [
    "import numpy as np # linear algebra\n",
    "import pandas as pd # data processing\n",
    "import matplotlib.pyplot as plt # data visualization\n",
    "import seaborn as sns # data visualization\n",
    "from sklearn.impute import SimpleImputer\n",
    "from scipy.stats import chi2_contingency\n",
    "from scipy.stats import ttest_ind\n",
    "\n",
    "import os\n",
    "for dirname, _, filenames in os.walk('/kaggle/input'):\n",
    "    for filename in filenames:\n",
    "        print(os.path.join(dirname, filename))"
   ]
  },
  {
   "cell_type": "markdown",
   "id": "72d6761d",
   "metadata": {
    "papermill": {
     "duration": 0.012893,
     "end_time": "2024-04-08T04:06:06.003257",
     "exception": false,
     "start_time": "2024-04-08T04:06:05.990364",
     "status": "completed"
    },
    "tags": []
   },
   "source": [
    "## Importing the Dataset & performing simple EDA"
   ]
  },
  {
   "cell_type": "code",
   "execution_count": 2,
   "id": "af83536f",
   "metadata": {
    "execution": {
     "iopub.execute_input": "2024-04-08T04:06:06.031378Z",
     "iopub.status.busy": "2024-04-08T04:06:06.030900Z",
     "iopub.status.idle": "2024-04-08T04:06:06.067996Z",
     "shell.execute_reply": "2024-04-08T04:06:06.066623Z"
    },
    "papermill": {
     "duration": 0.054717,
     "end_time": "2024-04-08T04:06:06.071022",
     "exception": false,
     "start_time": "2024-04-08T04:06:06.016305",
     "status": "completed"
    },
    "tags": []
   },
   "outputs": [
    {
     "data": {
      "text/html": [
       "<div>\n",
       "<style scoped>\n",
       "    .dataframe tbody tr th:only-of-type {\n",
       "        vertical-align: middle;\n",
       "    }\n",
       "\n",
       "    .dataframe tbody tr th {\n",
       "        vertical-align: top;\n",
       "    }\n",
       "\n",
       "    .dataframe thead th {\n",
       "        text-align: right;\n",
       "    }\n",
       "</style>\n",
       "<table border=\"1\" class=\"dataframe\">\n",
       "  <thead>\n",
       "    <tr style=\"text-align: right;\">\n",
       "      <th></th>\n",
       "      <th>PassengerId</th>\n",
       "      <th>Survived</th>\n",
       "      <th>Pclass</th>\n",
       "      <th>Name</th>\n",
       "      <th>Sex</th>\n",
       "      <th>Age</th>\n",
       "      <th>SibSp</th>\n",
       "      <th>Parch</th>\n",
       "      <th>Ticket</th>\n",
       "      <th>Fare</th>\n",
       "      <th>Cabin</th>\n",
       "      <th>Embarked</th>\n",
       "    </tr>\n",
       "  </thead>\n",
       "  <tbody>\n",
       "    <tr>\n",
       "      <th>0</th>\n",
       "      <td>1</td>\n",
       "      <td>0</td>\n",
       "      <td>3</td>\n",
       "      <td>Braund, Mr. Owen Harris</td>\n",
       "      <td>male</td>\n",
       "      <td>22.0</td>\n",
       "      <td>1</td>\n",
       "      <td>0</td>\n",
       "      <td>A/5 21171</td>\n",
       "      <td>7.2500</td>\n",
       "      <td>NaN</td>\n",
       "      <td>S</td>\n",
       "    </tr>\n",
       "    <tr>\n",
       "      <th>1</th>\n",
       "      <td>2</td>\n",
       "      <td>1</td>\n",
       "      <td>1</td>\n",
       "      <td>Cumings, Mrs. John Bradley (Florence Briggs Th...</td>\n",
       "      <td>female</td>\n",
       "      <td>38.0</td>\n",
       "      <td>1</td>\n",
       "      <td>0</td>\n",
       "      <td>PC 17599</td>\n",
       "      <td>71.2833</td>\n",
       "      <td>C85</td>\n",
       "      <td>C</td>\n",
       "    </tr>\n",
       "    <tr>\n",
       "      <th>2</th>\n",
       "      <td>3</td>\n",
       "      <td>1</td>\n",
       "      <td>3</td>\n",
       "      <td>Heikkinen, Miss. Laina</td>\n",
       "      <td>female</td>\n",
       "      <td>26.0</td>\n",
       "      <td>0</td>\n",
       "      <td>0</td>\n",
       "      <td>STON/O2. 3101282</td>\n",
       "      <td>7.9250</td>\n",
       "      <td>NaN</td>\n",
       "      <td>S</td>\n",
       "    </tr>\n",
       "    <tr>\n",
       "      <th>3</th>\n",
       "      <td>4</td>\n",
       "      <td>1</td>\n",
       "      <td>1</td>\n",
       "      <td>Futrelle, Mrs. Jacques Heath (Lily May Peel)</td>\n",
       "      <td>female</td>\n",
       "      <td>35.0</td>\n",
       "      <td>1</td>\n",
       "      <td>0</td>\n",
       "      <td>113803</td>\n",
       "      <td>53.1000</td>\n",
       "      <td>C123</td>\n",
       "      <td>S</td>\n",
       "    </tr>\n",
       "    <tr>\n",
       "      <th>4</th>\n",
       "      <td>5</td>\n",
       "      <td>0</td>\n",
       "      <td>3</td>\n",
       "      <td>Allen, Mr. William Henry</td>\n",
       "      <td>male</td>\n",
       "      <td>35.0</td>\n",
       "      <td>0</td>\n",
       "      <td>0</td>\n",
       "      <td>373450</td>\n",
       "      <td>8.0500</td>\n",
       "      <td>NaN</td>\n",
       "      <td>S</td>\n",
       "    </tr>\n",
       "  </tbody>\n",
       "</table>\n",
       "</div>"
      ],
      "text/plain": [
       "   PassengerId  Survived  Pclass  \\\n",
       "0            1         0       3   \n",
       "1            2         1       1   \n",
       "2            3         1       3   \n",
       "3            4         1       1   \n",
       "4            5         0       3   \n",
       "\n",
       "                                                Name     Sex   Age  SibSp  \\\n",
       "0                            Braund, Mr. Owen Harris    male  22.0      1   \n",
       "1  Cumings, Mrs. John Bradley (Florence Briggs Th...  female  38.0      1   \n",
       "2                             Heikkinen, Miss. Laina  female  26.0      0   \n",
       "3       Futrelle, Mrs. Jacques Heath (Lily May Peel)  female  35.0      1   \n",
       "4                           Allen, Mr. William Henry    male  35.0      0   \n",
       "\n",
       "   Parch            Ticket     Fare Cabin Embarked  \n",
       "0      0         A/5 21171   7.2500   NaN        S  \n",
       "1      0          PC 17599  71.2833   C85        C  \n",
       "2      0  STON/O2. 3101282   7.9250   NaN        S  \n",
       "3      0            113803  53.1000  C123        S  \n",
       "4      0            373450   8.0500   NaN        S  "
      ]
     },
     "execution_count": 2,
     "metadata": {},
     "output_type": "execute_result"
    }
   ],
   "source": [
    "titanic = pd.read_csv('/kaggle/input/titanic/train.csv')\n",
    "titanic.head()"
   ]
  },
  {
   "cell_type": "code",
   "execution_count": 3,
   "id": "fc59488a",
   "metadata": {
    "execution": {
     "iopub.execute_input": "2024-04-08T04:06:06.099682Z",
     "iopub.status.busy": "2024-04-08T04:06:06.099355Z",
     "iopub.status.idle": "2024-04-08T04:06:06.103617Z",
     "shell.execute_reply": "2024-04-08T04:06:06.103020Z"
    },
    "papermill": {
     "duration": 0.020739,
     "end_time": "2024-04-08T04:06:06.105260",
     "exception": false,
     "start_time": "2024-04-08T04:06:06.084521",
     "status": "completed"
    },
    "tags": []
   },
   "outputs": [
    {
     "data": {
      "text/plain": [
       "(891, 12)"
      ]
     },
     "execution_count": 3,
     "metadata": {},
     "output_type": "execute_result"
    }
   ],
   "source": [
    "# shape of the dataset\n",
    "titanic.shape"
   ]
  },
  {
   "cell_type": "code",
   "execution_count": 4,
   "id": "752ae112",
   "metadata": {
    "execution": {
     "iopub.execute_input": "2024-04-08T04:06:06.133689Z",
     "iopub.status.busy": "2024-04-08T04:06:06.132808Z",
     "iopub.status.idle": "2024-04-08T04:06:06.159261Z",
     "shell.execute_reply": "2024-04-08T04:06:06.157596Z"
    },
    "papermill": {
     "duration": 0.042901,
     "end_time": "2024-04-08T04:06:06.161214",
     "exception": false,
     "start_time": "2024-04-08T04:06:06.118313",
     "status": "completed"
    },
    "tags": []
   },
   "outputs": [
    {
     "name": "stdout",
     "output_type": "stream",
     "text": [
      "<class 'pandas.core.frame.DataFrame'>\n",
      "RangeIndex: 891 entries, 0 to 890\n",
      "Data columns (total 12 columns):\n",
      " #   Column       Non-Null Count  Dtype  \n",
      "---  ------       --------------  -----  \n",
      " 0   PassengerId  891 non-null    int64  \n",
      " 1   Survived     891 non-null    int64  \n",
      " 2   Pclass       891 non-null    int64  \n",
      " 3   Name         891 non-null    object \n",
      " 4   Sex          891 non-null    object \n",
      " 5   Age          714 non-null    float64\n",
      " 6   SibSp        891 non-null    int64  \n",
      " 7   Parch        891 non-null    int64  \n",
      " 8   Ticket       891 non-null    object \n",
      " 9   Fare         891 non-null    float64\n",
      " 10  Cabin        204 non-null    object \n",
      " 11  Embarked     889 non-null    object \n",
      "dtypes: float64(2), int64(5), object(5)\n",
      "memory usage: 83.7+ KB\n"
     ]
    }
   ],
   "source": [
    "titanic.info()"
   ]
  },
  {
   "cell_type": "code",
   "execution_count": 5,
   "id": "236571f5",
   "metadata": {
    "execution": {
     "iopub.execute_input": "2024-04-08T04:06:06.190963Z",
     "iopub.status.busy": "2024-04-08T04:06:06.190349Z",
     "iopub.status.idle": "2024-04-08T04:06:06.197167Z",
     "shell.execute_reply": "2024-04-08T04:06:06.196102Z"
    },
    "papermill": {
     "duration": 0.024561,
     "end_time": "2024-04-08T04:06:06.199242",
     "exception": false,
     "start_time": "2024-04-08T04:06:06.174681",
     "status": "completed"
    },
    "tags": []
   },
   "outputs": [
    {
     "data": {
      "text/plain": [
       "PassengerId      0\n",
       "Survived         0\n",
       "Pclass           0\n",
       "Name             0\n",
       "Sex              0\n",
       "Age            177\n",
       "SibSp            0\n",
       "Parch            0\n",
       "Ticket           0\n",
       "Fare             0\n",
       "Cabin          687\n",
       "Embarked         2\n",
       "dtype: int64"
      ]
     },
     "execution_count": 5,
     "metadata": {},
     "output_type": "execute_result"
    }
   ],
   "source": [
    "# Missing Values\n",
    "titanic.isna().sum()"
   ]
  },
  {
   "cell_type": "code",
   "execution_count": 6,
   "id": "b1adefaa",
   "metadata": {
    "execution": {
     "iopub.execute_input": "2024-04-08T04:06:06.229494Z",
     "iopub.status.busy": "2024-04-08T04:06:06.228627Z",
     "iopub.status.idle": "2024-04-08T04:06:06.236851Z",
     "shell.execute_reply": "2024-04-08T04:06:06.236050Z"
    },
    "papermill": {
     "duration": 0.025665,
     "end_time": "2024-04-08T04:06:06.238726",
     "exception": false,
     "start_time": "2024-04-08T04:06:06.213061",
     "status": "completed"
    },
    "tags": []
   },
   "outputs": [
    {
     "data": {
      "text/plain": [
       "PassengerId     0.000000\n",
       "Survived        0.000000\n",
       "Pclass          0.000000\n",
       "Name            0.000000\n",
       "Sex             0.000000\n",
       "Age            19.865320\n",
       "SibSp           0.000000\n",
       "Parch           0.000000\n",
       "Ticket          0.000000\n",
       "Fare            0.000000\n",
       "Cabin          77.104377\n",
       "Embarked        0.224467\n",
       "dtype: float64"
      ]
     },
     "execution_count": 6,
     "metadata": {},
     "output_type": "execute_result"
    }
   ],
   "source": [
    "# Missing values (in percent)\n",
    "titanic.isnull().sum()/len(titanic)*100"
   ]
  },
  {
   "cell_type": "code",
   "execution_count": 7,
   "id": "85d6ecc8",
   "metadata": {
    "execution": {
     "iopub.execute_input": "2024-04-08T04:06:06.268500Z",
     "iopub.status.busy": "2024-04-08T04:06:06.267311Z",
     "iopub.status.idle": "2024-04-08T04:06:06.444037Z",
     "shell.execute_reply": "2024-04-08T04:06:06.442601Z"
    },
    "papermill": {
     "duration": 0.19344,
     "end_time": "2024-04-08T04:06:06.446097",
     "exception": false,
     "start_time": "2024-04-08T04:06:06.252657",
     "status": "completed"
    },
    "tags": []
   },
   "outputs": [
    {
     "data": {
      "image/png": "[encoded data removed]",
      "text/plain": [
       "<Figure size 800x600 with 1 Axes>"
      ]
     },
     "metadata": {},
     "output_type": "display_data"
    }
   ],
   "source": [
    "plt.figure(figsize=(8, 6))\n",
    "sns.heatmap(titanic.isnull(), cmap='viridis', cbar=False, yticklabels=False)\n",
    "plt.show()"
   ]
  },
  {
   "cell_type": "code",
   "execution_count": 8,
   "id": "6caf077d",
   "metadata": {
    "execution": {
     "iopub.execute_input": "2024-04-08T04:06:06.475710Z",
     "iopub.status.busy": "2024-04-08T04:06:06.474867Z",
     "iopub.status.idle": "2024-04-08T04:06:06.501541Z",
     "shell.execute_reply": "2024-04-08T04:06:06.500651Z"
    },
    "papermill": {
     "duration": 0.044358,
     "end_time": "2024-04-08T04:06:06.504276",
     "exception": false,
     "start_time": "2024-04-08T04:06:06.459918",
     "status": "completed"
    },
    "tags": []
   },
   "outputs": [
    {
     "data": {
      "text/html": [
       "<div>\n",
       "<style scoped>\n",
       "    .dataframe tbody tr th:only-of-type {\n",
       "        vertical-align: middle;\n",
       "    }\n",
       "\n",
       "    .dataframe tbody tr th {\n",
       "        vertical-align: top;\n",
       "    }\n",
       "\n",
       "    .dataframe thead th {\n",
       "        text-align: right;\n",
       "    }\n",
       "</style>\n",
       "<table border=\"1\" class=\"dataframe\">\n",
       "  <thead>\n",
       "    <tr style=\"text-align: right;\">\n",
       "      <th></th>\n",
       "      <th>PassengerId</th>\n",
       "      <th>Survived</th>\n",
       "      <th>Pclass</th>\n",
       "      <th>Age</th>\n",
       "      <th>SibSp</th>\n",
       "      <th>Parch</th>\n",
       "      <th>Fare</th>\n",
       "    </tr>\n",
       "  </thead>\n",
       "  <tbody>\n",
       "    <tr>\n",
       "      <th>count</th>\n",
       "      <td>891.000000</td>\n",
       "      <td>891.000000</td>\n",
       "      <td>891.000000</td>\n",
       "      <td>714.000000</td>\n",
       "      <td>891.000000</td>\n",
       "      <td>891.000000</td>\n",
       "      <td>891.000000</td>\n",
       "    </tr>\n",
       "    <tr>\n",
       "      <th>mean</th>\n",
       "      <td>446.000000</td>\n",
       "      <td>0.383838</td>\n",
       "      <td>2.308642</td>\n",
       "      <td>29.699118</td>\n",
       "      <td>0.523008</td>\n",
       "      <td>0.381594</td>\n",
       "      <td>32.204208</td>\n",
       "    </tr>\n",
       "    <tr>\n",
       "      <th>std</th>\n",
       "      <td>257.353842</td>\n",
       "      <td>0.486592</td>\n",
       "      <td>0.836071</td>\n",
       "      <td>14.526497</td>\n",
       "      <td>1.102743</td>\n",
       "      <td>0.806057</td>\n",
       "      <td>49.693429</td>\n",
       "    </tr>\n",
       "    <tr>\n",
       "      <th>min</th>\n",
       "      <td>1.000000</td>\n",
       "      <td>0.000000</td>\n",
       "      <td>1.000000</td>\n",
       "      <td>0.420000</td>\n",
       "      <td>0.000000</td>\n",
       "      <td>0.000000</td>\n",
       "      <td>0.000000</td>\n",
       "    </tr>\n",
       "    <tr>\n",
       "      <th>25%</th>\n",
       "      <td>223.500000</td>\n",
       "      <td>0.000000</td>\n",
       "      <td>2.000000</td>\n",
       "      <td>20.125000</td>\n",
       "      <td>0.000000</td>\n",
       "      <td>0.000000</td>\n",
       "      <td>7.910400</td>\n",
       "    </tr>\n",
       "    <tr>\n",
       "      <th>50%</th>\n",
       "      <td>446.000000</td>\n",
       "      <td>0.000000</td>\n",
       "      <td>3.000000</td>\n",
       "      <td>28.000000</td>\n",
       "      <td>0.000000</td>\n",
       "      <td>0.000000</td>\n",
       "      <td>14.454200</td>\n",
       "    </tr>\n",
       "    <tr>\n",
       "      <th>75%</th>\n",
       "      <td>668.500000</td>\n",
       "      <td>1.000000</td>\n",
       "      <td>3.000000</td>\n",
       "      <td>38.000000</td>\n",
       "      <td>1.000000</td>\n",
       "      <td>0.000000</td>\n",
       "      <td>31.000000</td>\n",
       "    </tr>\n",
       "    <tr>\n",
       "      <th>max</th>\n",
       "      <td>891.000000</td>\n",
       "      <td>1.000000</td>\n",
       "      <td>3.000000</td>\n",
       "      <td>80.000000</td>\n",
       "      <td>8.000000</td>\n",
       "      <td>6.000000</td>\n",
       "      <td>512.329200</td>\n",
       "    </tr>\n",
       "  </tbody>\n",
       "</table>\n",
       "</div>"
      ],
      "text/plain": [
       "       PassengerId    Survived      Pclass         Age       SibSp  \\\n",
       "count   891.000000  891.000000  891.000000  714.000000  891.000000   \n",
       "mean    446.000000    0.383838    2.308642   29.699118    0.523008   \n",
       "std     257.353842    0.486592    0.836071   14.526497    1.102743   \n",
       "min       1.000000    0.000000    1.000000    0.420000    0.000000   \n",
       "25%     223.500000    0.000000    2.000000   20.125000    0.000000   \n",
       "50%     446.000000    0.000000    3.000000   28.000000    0.000000   \n",
       "75%     668.500000    1.000000    3.000000   38.000000    1.000000   \n",
       "max     891.000000    1.000000    3.000000   80.000000    8.000000   \n",
       "\n",
       "            Parch        Fare  \n",
       "count  891.000000  891.000000  \n",
       "mean     0.381594   32.204208  \n",
       "std      0.806057   49.693429  \n",
       "min      0.000000    0.000000  \n",
       "25%      0.000000    7.910400  \n",
       "50%      0.000000   14.454200  \n",
       "75%      0.000000   31.000000  \n",
       "max      6.000000  512.329200  "
      ]
     },
     "execution_count": 8,
     "metadata": {},
     "output_type": "execute_result"
    }
   ],
   "source": [
    "# Describing the numerical & datetime values\n",
    "titanic.describe()"
   ]
  },
  {
   "cell_type": "code",
   "execution_count": 9,
   "id": "bd161e52",
   "metadata": {
    "execution": {
     "iopub.execute_input": "2024-04-08T04:06:06.534237Z",
     "iopub.status.busy": "2024-04-08T04:06:06.533925Z",
     "iopub.status.idle": "2024-04-08T04:06:06.549276Z",
     "shell.execute_reply": "2024-04-08T04:06:06.548256Z"
    },
    "papermill": {
     "duration": 0.03253,
     "end_time": "2024-04-08T04:06:06.550972",
     "exception": false,
     "start_time": "2024-04-08T04:06:06.518442",
     "status": "completed"
    },
    "tags": []
   },
   "outputs": [
    {
     "data": {
      "text/html": [
       "<div>\n",
       "<style scoped>\n",
       "    .dataframe tbody tr th:only-of-type {\n",
       "        vertical-align: middle;\n",
       "    }\n",
       "\n",
       "    .dataframe tbody tr th {\n",
       "        vertical-align: top;\n",
       "    }\n",
       "\n",
       "    .dataframe thead th {\n",
       "        text-align: right;\n",
       "    }\n",
       "</style>\n",
       "<table border=\"1\" class=\"dataframe\">\n",
       "  <thead>\n",
       "    <tr style=\"text-align: right;\">\n",
       "      <th></th>\n",
       "      <th>count</th>\n",
       "      <th>unique</th>\n",
       "      <th>top</th>\n",
       "      <th>freq</th>\n",
       "    </tr>\n",
       "  </thead>\n",
       "  <tbody>\n",
       "    <tr>\n",
       "      <th>Name</th>\n",
       "      <td>891</td>\n",
       "      <td>891</td>\n",
       "      <td>Braund, Mr. Owen Harris</td>\n",
       "      <td>1</td>\n",
       "    </tr>\n",
       "    <tr>\n",
       "      <th>Sex</th>\n",
       "      <td>891</td>\n",
       "      <td>2</td>\n",
       "      <td>male</td>\n",
       "      <td>577</td>\n",
       "    </tr>\n",
       "    <tr>\n",
       "      <th>Ticket</th>\n",
       "      <td>891</td>\n",
       "      <td>681</td>\n",
       "      <td>347082</td>\n",
       "      <td>7</td>\n",
       "    </tr>\n",
       "    <tr>\n",
       "      <th>Cabin</th>\n",
       "      <td>204</td>\n",
       "      <td>147</td>\n",
       "      <td>B96 B98</td>\n",
       "      <td>4</td>\n",
       "    </tr>\n",
       "    <tr>\n",
       "      <th>Embarked</th>\n",
       "      <td>889</td>\n",
       "      <td>3</td>\n",
       "      <td>S</td>\n",
       "      <td>644</td>\n",
       "    </tr>\n",
       "  </tbody>\n",
       "</table>\n",
       "</div>"
      ],
      "text/plain": [
       "         count unique                      top freq\n",
       "Name       891    891  Braund, Mr. Owen Harris    1\n",
       "Sex        891      2                     male  577\n",
       "Ticket     891    681                   347082    7\n",
       "Cabin      204    147                  B96 B98    4\n",
       "Embarked   889      3                        S  644"
      ]
     },
     "execution_count": 9,
     "metadata": {},
     "output_type": "execute_result"
    }
   ],
   "source": [
    "# Describing the numerical & datetime values\n",
    "titanic.describe(include='object').T"
   ]
  },
  {
   "cell_type": "markdown",
   "id": "9f99a6d9",
   "metadata": {
    "papermill": {
     "duration": 0.013902,
     "end_time": "2024-04-08T04:06:06.579260",
     "exception": false,
     "start_time": "2024-04-08T04:06:06.565358",
     "status": "completed"
    },
    "tags": []
   },
   "source": [
    "### Inference\n",
    "* The dataset has a shape of (891, 12).\n",
    "* There are 3 columns with missing values: Age, Cabin, and Embarked.\n",
    "* We can handle missing values for Age and Embarked. However, since around 77.1% of rows are missing for Cabin, it would be wise to remove that column, as it does not impact the label column.\n",
    "* We can also remove the PassengerId, Ticket and Name columns.\n",
    "* Since there are only two rows with null values for the 'Embarked' column (i.e., 0.22% of dataset), we can safely remove them."
   ]
  },
  {
   "cell_type": "markdown",
   "id": "2438d08c",
   "metadata": {
    "papermill": {
     "duration": 0.01332,
     "end_time": "2024-04-08T04:06:06.606175",
     "exception": false,
     "start_time": "2024-04-08T04:06:06.592855",
     "status": "completed"
    },
    "tags": []
   },
   "source": [
    "## Dealing with Null Values and Dropping Unnecessary Columns"
   ]
  },
  {
   "cell_type": "code",
   "execution_count": 10,
   "id": "171a1ea8",
   "metadata": {
    "execution": {
     "iopub.execute_input": "2024-04-08T04:06:06.635825Z",
     "iopub.status.busy": "2024-04-08T04:06:06.635163Z",
     "iopub.status.idle": "2024-04-08T04:06:06.644525Z",
     "shell.execute_reply": "2024-04-08T04:06:06.643124Z"
    },
    "papermill": {
     "duration": 0.027113,
     "end_time": "2024-04-08T04:06:06.646832",
     "exception": false,
     "start_time": "2024-04-08T04:06:06.619719",
     "status": "completed"
    },
    "tags": []
   },
   "outputs": [],
   "source": [
    "titanic.drop(['Cabin', 'PassengerId', 'Name', 'Ticket'], axis=1, inplace=True)"
   ]
  },
  {
   "cell_type": "code",
   "execution_count": 11,
   "id": "90688241",
   "metadata": {
    "execution": {
     "iopub.execute_input": "2024-04-08T04:06:06.676382Z",
     "iopub.status.busy": "2024-04-08T04:06:06.676043Z",
     "iopub.status.idle": "2024-04-08T04:06:06.684046Z",
     "shell.execute_reply": "2024-04-08T04:06:06.683116Z"
    },
    "papermill": {
     "duration": 0.025074,
     "end_time": "2024-04-08T04:06:06.685948",
     "exception": false,
     "start_time": "2024-04-08T04:06:06.660874",
     "status": "completed"
    },
    "tags": []
   },
   "outputs": [],
   "source": [
    "titanic.dropna(subset=['Embarked'],inplace=True)"
   ]
  },
  {
   "cell_type": "code",
   "execution_count": 12,
   "id": "8306ce51",
   "metadata": {
    "execution": {
     "iopub.execute_input": "2024-04-08T04:06:06.717850Z",
     "iopub.status.busy": "2024-04-08T04:06:06.717436Z",
     "iopub.status.idle": "2024-04-08T04:06:06.945828Z",
     "shell.execute_reply": "2024-04-08T04:06:06.944712Z"
    },
    "papermill": {
     "duration": 0.246805,
     "end_time": "2024-04-08T04:06:06.948056",
     "exception": false,
     "start_time": "2024-04-08T04:06:06.701251",
     "status": "completed"
    },
    "tags": []
   },
   "outputs": [
    {
     "name": "stderr",
     "output_type": "stream",
     "text": [
      "/opt/conda/lib/python3.10/site-packages/seaborn/_oldcore.py:1119: FutureWarning: use_inf_as_na option is deprecated and will be removed in a future version. Convert inf values to NaN before operating instead.\n",
      "  with pd.option_context('mode.use_inf_as_na', True):\n"
     ]
    },
    {
     "data": {
      "image/png": "[encoded data removed]",
      "text/plain": [
       "<Figure size 640x480 with 1 Axes>"
      ]
     },
     "metadata": {},
     "output_type": "display_data"
    }
   ],
   "source": [
    "# Inorder to replace null values in Age column, we can draw boxplot or kdeplot\n",
    "sns.kdeplot(data=titanic, x='Age', color='skyblue')  \n",
    "plt.xlabel('Age')\n",
    "plt.ylabel('Frequency')\n",
    "plt.title('Histogram of Age')\n",
    "plt.show()"
   ]
  },
  {
   "cell_type": "markdown",
   "id": "97ebe437",
   "metadata": {
    "papermill": {
     "duration": 0.015052,
     "end_time": "2024-04-08T04:06:06.977432",
     "exception": false,
     "start_time": "2024-04-08T04:06:06.962380",
     "status": "completed"
    },
    "tags": []
   },
   "source": [
    "### Inference\n",
    "The distribution appears to be right-skewed, so it would be more appropriate to use the median instead of the mean."
   ]
  },
  {
   "cell_type": "code",
   "execution_count": 13,
   "id": "3b760b6d",
   "metadata": {
    "execution": {
     "iopub.execute_input": "2024-04-08T04:06:07.008159Z",
     "iopub.status.busy": "2024-04-08T04:06:07.007831Z",
     "iopub.status.idle": "2024-04-08T04:06:07.018253Z",
     "shell.execute_reply": "2024-04-08T04:06:07.017075Z"
    },
    "papermill": {
     "duration": 0.028044,
     "end_time": "2024-04-08T04:06:07.020380",
     "exception": false,
     "start_time": "2024-04-08T04:06:06.992336",
     "status": "completed"
    },
    "tags": []
   },
   "outputs": [],
   "source": [
    "imputer = SimpleImputer(strategy='median')\n",
    "titanic['Age'] = imputer.fit_transform(titanic[['Age']])"
   ]
  },
  {
   "cell_type": "code",
   "execution_count": 14,
   "id": "80ea59cb",
   "metadata": {
    "execution": {
     "iopub.execute_input": "2024-04-08T04:06:07.052343Z",
     "iopub.status.busy": "2024-04-08T04:06:07.051661Z",
     "iopub.status.idle": "2024-04-08T04:06:07.061090Z",
     "shell.execute_reply": "2024-04-08T04:06:07.060087Z"
    },
    "papermill": {
     "duration": 0.0273,
     "end_time": "2024-04-08T04:06:07.062797",
     "exception": false,
     "start_time": "2024-04-08T04:06:07.035497",
     "status": "completed"
    },
    "tags": []
   },
   "outputs": [
    {
     "name": "stdout",
     "output_type": "stream",
     "text": [
      "<class 'pandas.core.frame.DataFrame'>\n",
      "Index: 889 entries, 0 to 890\n",
      "Data columns (total 8 columns):\n",
      " #   Column    Non-Null Count  Dtype  \n",
      "---  ------    --------------  -----  \n",
      " 0   Survived  889 non-null    int64  \n",
      " 1   Pclass    889 non-null    int64  \n",
      " 2   Sex       889 non-null    object \n",
      " 3   Age       889 non-null    float64\n",
      " 4   SibSp     889 non-null    int64  \n",
      " 5   Parch     889 non-null    int64  \n",
      " 6   Fare      889 non-null    float64\n",
      " 7   Embarked  889 non-null    object \n",
      "dtypes: float64(2), int64(4), object(2)\n",
      "memory usage: 62.5+ KB\n"
     ]
    }
   ],
   "source": [
    "# Missing Values\n",
    "titanic.info()"
   ]
  },
  {
   "cell_type": "markdown",
   "id": "8821ba87",
   "metadata": {
    "papermill": {
     "duration": 0.013871,
     "end_time": "2024-04-08T04:06:07.146235",
     "exception": false,
     "start_time": "2024-04-08T04:06:07.132364",
     "status": "completed"
    },
    "tags": []
   },
   "source": [
    "## Dealing with Outliers"
   ]
  },
  {
   "cell_type": "code",
   "execution_count": 15,
   "id": "b3feb1f3",
   "metadata": {
    "execution": {
     "iopub.execute_input": "2024-04-08T04:06:07.176811Z",
     "iopub.status.busy": "2024-04-08T04:06:07.176433Z",
     "iopub.status.idle": "2024-04-08T04:06:07.511454Z",
     "shell.execute_reply": "2024-04-08T04:06:07.510514Z"
    },
    "papermill": {
     "duration": 0.352564,
     "end_time": "2024-04-08T04:06:07.513181",
     "exception": false,
     "start_time": "2024-04-08T04:06:07.160617",
     "status": "completed"
    },
    "tags": []
   },
   "outputs": [
    {
     "data": {
      "image/png": "[encoded data removed]",
      "text/plain": [
       "<Figure size 1200x1000 with 3 Axes>"
      ]
     },
     "metadata": {},
     "output_type": "display_data"
    }
   ],
   "source": [
    "fig, axis = plt.subplots(nrows=3,ncols=1,figsize=(12, 10))\n",
    "\n",
    "sns.boxplot(data=titanic, x=\"Age\", ax=axis[0])\n",
    "sns.boxplot(data=titanic, x=\"SibSp\", ax=axis[1])\n",
    "sns.boxplot(data=titanic, x=\"Fare\", ax=axis[2])\n",
    "plt.show()"
   ]
  },
  {
   "cell_type": "markdown",
   "id": "ed786b07",
   "metadata": {
    "papermill": {
     "duration": 0.014375,
     "end_time": "2024-04-08T04:06:07.542240",
     "exception": false,
     "start_time": "2024-04-08T04:06:07.527865",
     "status": "completed"
    },
    "tags": []
   },
   "source": [
    "### Inference\n",
    "Both the 'Fare' and 'SibSp' columns exhibit the most outliers. However, for the 'Fare' column, it is important to note that the highest fare was paid by a male and a female, both from Class 1. These individuals likely had the means to pay high fares, so their values should not be considered outliers solely based on the fare amount."
   ]
  },
  {
   "cell_type": "markdown",
   "id": "452803c1",
   "metadata": {
    "papermill": {
     "duration": 0.015962,
     "end_time": "2024-04-08T04:06:07.572875",
     "exception": false,
     "start_time": "2024-04-08T04:06:07.556913",
     "status": "completed"
    },
    "tags": []
   },
   "source": [
    "## Univariate Analysis"
   ]
  },
  {
   "cell_type": "markdown",
   "id": "9365a829",
   "metadata": {
    "papermill": {
     "duration": 0.014987,
     "end_time": "2024-04-08T04:06:07.603574",
     "exception": false,
     "start_time": "2024-04-08T04:06:07.588587",
     "status": "completed"
    },
    "tags": []
   },
   "source": [
    "### Pclass Column"
   ]
  },
  {
   "cell_type": "code",
   "execution_count": 16,
   "id": "5093e8cd",
   "metadata": {
    "execution": {
     "iopub.execute_input": "2024-04-08T04:06:07.636445Z",
     "iopub.status.busy": "2024-04-08T04:06:07.635637Z",
     "iopub.status.idle": "2024-04-08T04:06:07.644406Z",
     "shell.execute_reply": "2024-04-08T04:06:07.643222Z"
    },
    "papermill": {
     "duration": 0.027911,
     "end_time": "2024-04-08T04:06:07.646827",
     "exception": false,
     "start_time": "2024-04-08T04:06:07.618916",
     "status": "completed"
    },
    "tags": []
   },
   "outputs": [
    {
     "data": {
      "text/plain": [
       "Pclass\n",
       "3    491\n",
       "1    214\n",
       "2    184\n",
       "Name: count, dtype: int64"
      ]
     },
     "execution_count": 16,
     "metadata": {},
     "output_type": "execute_result"
    }
   ],
   "source": [
    "titanic['Pclass'].value_counts()"
   ]
  },
  {
   "cell_type": "code",
   "execution_count": 17,
   "id": "a79f3249",
   "metadata": {
    "execution": {
     "iopub.execute_input": "2024-04-08T04:06:07.679644Z",
     "iopub.status.busy": "2024-04-08T04:06:07.679060Z",
     "iopub.status.idle": "2024-04-08T04:06:07.806814Z",
     "shell.execute_reply": "2024-04-08T04:06:07.805932Z"
    },
    "papermill": {
     "duration": 0.147062,
     "end_time": "2024-04-08T04:06:07.809547",
     "exception": false,
     "start_time": "2024-04-08T04:06:07.662485",
     "status": "completed"
    },
    "tags": []
   },
   "outputs": [
    {
     "data": {
      "image/png": "[encoded data removed]",
      "text/plain": [
       "<Figure size 640x480 with 1 Axes>"
      ]
     },
     "metadata": {},
     "output_type": "display_data"
    }
   ],
   "source": [
    "titanic['Pclass'].value_counts().plot(kind='pie',autopct=\"%.1f\")\n",
    "plt.xlabel('Pclass Column')\n",
    "plt.title('Piechart of Pclass Column')\n",
    "plt.show()"
   ]
  },
  {
   "cell_type": "markdown",
   "id": "1491aca5",
   "metadata": {
    "papermill": {
     "duration": 0.019725,
     "end_time": "2024-04-08T04:06:07.849302",
     "exception": false,
     "start_time": "2024-04-08T04:06:07.829577",
     "status": "completed"
    },
    "tags": []
   },
   "source": [
    "### Sex Column"
   ]
  },
  {
   "cell_type": "code",
   "execution_count": 18,
   "id": "6fdc9766",
   "metadata": {
    "execution": {
     "iopub.execute_input": "2024-04-08T04:06:07.890469Z",
     "iopub.status.busy": "2024-04-08T04:06:07.889832Z",
     "iopub.status.idle": "2024-04-08T04:06:07.897407Z",
     "shell.execute_reply": "2024-04-08T04:06:07.896762Z"
    },
    "papermill": {
     "duration": 0.030346,
     "end_time": "2024-04-08T04:06:07.899110",
     "exception": false,
     "start_time": "2024-04-08T04:06:07.868764",
     "status": "completed"
    },
    "tags": []
   },
   "outputs": [
    {
     "data": {
      "text/plain": [
       "Sex\n",
       "male      577\n",
       "female    312\n",
       "Name: count, dtype: int64"
      ]
     },
     "execution_count": 18,
     "metadata": {},
     "output_type": "execute_result"
    }
   ],
   "source": [
    "titanic['Sex'].value_counts()"
   ]
  },
  {
   "cell_type": "code",
   "execution_count": 19,
   "id": "d6424847",
   "metadata": {
    "execution": {
     "iopub.execute_input": "2024-04-08T04:06:07.932134Z",
     "iopub.status.busy": "2024-04-08T04:06:07.931802Z",
     "iopub.status.idle": "2024-04-08T04:06:08.088960Z",
     "shell.execute_reply": "2024-04-08T04:06:08.087526Z"
    },
    "papermill": {
     "duration": 0.176428,
     "end_time": "2024-04-08T04:06:08.091654",
     "exception": false,
     "start_time": "2024-04-08T04:06:07.915226",
     "status": "completed"
    },
    "tags": []
   },
   "outputs": [
    {
     "data": {
      "image/png": "[encoded data removed]",
      "text/plain": [
       "<Figure size 600x600 with 1 Axes>"
      ]
     },
     "metadata": {},
     "output_type": "display_data"
    }
   ],
   "source": [
    "plt.figure(figsize=(6, 6))\n",
    "sns.countplot(x='Sex', data=titanic, palette='Blues')\n",
    "plt.xlabel('Sex')\n",
    "plt.ylabel('Count')\n",
    "plt.title('Countplot of Sex Column')\n",
    "plt.show()"
   ]
  },
  {
   "cell_type": "markdown",
   "id": "9a37c211",
   "metadata": {
    "papermill": {
     "duration": 0.015323,
     "end_time": "2024-04-08T04:06:08.123903",
     "exception": false,
     "start_time": "2024-04-08T04:06:08.108580",
     "status": "completed"
    },
    "tags": []
   },
   "source": [
    "### Age Column"
   ]
  },
  {
   "cell_type": "code",
   "execution_count": 20,
   "id": "1c26bc07",
   "metadata": {
    "execution": {
     "iopub.execute_input": "2024-04-08T04:06:08.155965Z",
     "iopub.status.busy": "2024-04-08T04:06:08.155318Z",
     "iopub.status.idle": "2024-04-08T04:06:08.168645Z",
     "shell.execute_reply": "2024-04-08T04:06:08.167977Z"
    },
    "papermill": {
     "duration": 0.031823,
     "end_time": "2024-04-08T04:06:08.170776",
     "exception": false,
     "start_time": "2024-04-08T04:06:08.138953",
     "status": "completed"
    },
    "tags": []
   },
   "outputs": [
    {
     "data": {
      "text/plain": [
       "Age_Category\n",
       "Young       448\n",
       "Mid-aged    289\n",
       "Child       113\n",
       "Old          39\n",
       "Name: count, dtype: int64"
      ]
     },
     "execution_count": 20,
     "metadata": {},
     "output_type": "execute_result"
    }
   ],
   "source": [
    "titanic['Age_Category']=pd.cut(titanic['Age'],bins=[0,17,29,55,80],labels=['Child','Young','Mid-aged','Old'])\n",
    "\n",
    "titanic['Age_Category'].value_counts()"
   ]
  },
  {
   "cell_type": "code",
   "execution_count": 21,
   "id": "04ea1450",
   "metadata": {
    "execution": {
     "iopub.execute_input": "2024-04-08T04:06:08.204476Z",
     "iopub.status.busy": "2024-04-08T04:06:08.204089Z",
     "iopub.status.idle": "2024-04-08T04:06:08.373400Z",
     "shell.execute_reply": "2024-04-08T04:06:08.372796Z"
    },
    "papermill": {
     "duration": 0.189158,
     "end_time": "2024-04-08T04:06:08.376190",
     "exception": false,
     "start_time": "2024-04-08T04:06:08.187032",
     "status": "completed"
    },
    "tags": []
   },
   "outputs": [
    {
     "name": "stderr",
     "output_type": "stream",
     "text": [
      "/opt/conda/lib/python3.10/site-packages/seaborn/categorical.py:641: FutureWarning: The default of observed=False is deprecated and will be changed to True in a future version of pandas. Pass observed=False to retain current behavior or observed=True to adopt the future default and silence this warning.\n",
      "  grouped_vals = vals.groupby(grouper)\n"
     ]
    },
    {
     "data": {
      "image/png": "[encoded data removed]",
      "text/plain": [
       "<Figure size 640x480 with 1 Axes>"
      ]
     },
     "metadata": {},
     "output_type": "display_data"
    }
   ],
   "source": [
    "sns.countplot(x='Age_Category', data=titanic, palette='Blues')\n",
    "plt.xlabel('Age Category')\n",
    "plt.ylabel('Count')\n",
    "plt.title('Distribution of Dataset based on Age')\n",
    "plt.show()"
   ]
  },
  {
   "cell_type": "markdown",
   "id": "b831fe0d",
   "metadata": {
    "papermill": {
     "duration": 0.017494,
     "end_time": "2024-04-08T04:06:08.414989",
     "exception": false,
     "start_time": "2024-04-08T04:06:08.397495",
     "status": "completed"
    },
    "tags": []
   },
   "source": [
    "### Embarked Column"
   ]
  },
  {
   "cell_type": "code",
   "execution_count": 22,
   "id": "4611a7a9",
   "metadata": {
    "execution": {
     "iopub.execute_input": "2024-04-08T04:06:08.452490Z",
     "iopub.status.busy": "2024-04-08T04:06:08.451767Z",
     "iopub.status.idle": "2024-04-08T04:06:08.460272Z",
     "shell.execute_reply": "2024-04-08T04:06:08.459484Z"
    },
    "papermill": {
     "duration": 0.029161,
     "end_time": "2024-04-08T04:06:08.462185",
     "exception": false,
     "start_time": "2024-04-08T04:06:08.433024",
     "status": "completed"
    },
    "tags": []
   },
   "outputs": [
    {
     "data": {
      "text/plain": [
       "Embarked\n",
       "S    644\n",
       "C    168\n",
       "Q     77\n",
       "Name: count, dtype: int64"
      ]
     },
     "execution_count": 22,
     "metadata": {},
     "output_type": "execute_result"
    }
   ],
   "source": [
    "titanic['Embarked'].value_counts()"
   ]
  },
  {
   "cell_type": "code",
   "execution_count": 23,
   "id": "66a23500",
   "metadata": {
    "execution": {
     "iopub.execute_input": "2024-04-08T04:06:08.501296Z",
     "iopub.status.busy": "2024-04-08T04:06:08.500721Z",
     "iopub.status.idle": "2024-04-08T04:06:08.659610Z",
     "shell.execute_reply": "2024-04-08T04:06:08.658910Z"
    },
    "papermill": {
     "duration": 0.187201,
     "end_time": "2024-04-08T04:06:08.665846",
     "exception": false,
     "start_time": "2024-04-08T04:06:08.478645",
     "status": "completed"
    },
    "tags": []
   },
   "outputs": [
    {
     "data": {
      "image/png": "[encoded data removed]",
      "text/plain": [
       "<Figure size 640x480 with 1 Axes>"
      ]
     },
     "metadata": {},
     "output_type": "display_data"
    }
   ],
   "source": [
    "sns.countplot(x='Embarked', data=titanic, palette='Blues')\n",
    "plt.xlabel('Port of Embarkation')\n",
    "plt.ylabel('Count')\n",
    "plt.title('Distribution of Dataset based on Embarkation')\n",
    "plt.show()"
   ]
  },
  {
   "cell_type": "markdown",
   "id": "7a5b0b9d",
   "metadata": {
    "papermill": {
     "duration": 0.02388,
     "end_time": "2024-04-08T04:06:08.710677",
     "exception": false,
     "start_time": "2024-04-08T04:06:08.686797",
     "status": "completed"
    },
    "tags": []
   },
   "source": [
    "### Survived (Label)"
   ]
  },
  {
   "cell_type": "code",
   "execution_count": 24,
   "id": "b5795e26",
   "metadata": {
    "execution": {
     "iopub.execute_input": "2024-04-08T04:06:08.749965Z",
     "iopub.status.busy": "2024-04-08T04:06:08.749294Z",
     "iopub.status.idle": "2024-04-08T04:06:08.755697Z",
     "shell.execute_reply": "2024-04-08T04:06:08.755048Z"
    },
    "papermill": {
     "duration": 0.02626,
     "end_time": "2024-04-08T04:06:08.757187",
     "exception": false,
     "start_time": "2024-04-08T04:06:08.730927",
     "status": "completed"
    },
    "tags": []
   },
   "outputs": [
    {
     "data": {
      "text/plain": [
       "Survived\n",
       "0    549\n",
       "1    340\n",
       "Name: count, dtype: int64"
      ]
     },
     "execution_count": 24,
     "metadata": {},
     "output_type": "execute_result"
    }
   ],
   "source": [
    "titanic['Survived'].value_counts()"
   ]
  },
  {
   "cell_type": "code",
   "execution_count": 25,
   "id": "eac5aaa3",
   "metadata": {
    "execution": {
     "iopub.execute_input": "2024-04-08T04:06:08.792885Z",
     "iopub.status.busy": "2024-04-08T04:06:08.792251Z",
     "iopub.status.idle": "2024-04-08T04:06:08.948273Z",
     "shell.execute_reply": "2024-04-08T04:06:08.947592Z"
    },
    "papermill": {
     "duration": 0.175855,
     "end_time": "2024-04-08T04:06:08.949889",
     "exception": false,
     "start_time": "2024-04-08T04:06:08.774034",
     "status": "completed"
    },
    "tags": []
   },
   "outputs": [
    {
     "data": {
      "image/png": "[encoded data removed]",
      "text/plain": [
       "<Figure size 640x480 with 1 Axes>"
      ]
     },
     "metadata": {},
     "output_type": "display_data"
    }
   ],
   "source": [
    "sns.countplot(x='Survived', data=titanic, palette='Reds')\n",
    "plt.xlabel('Survived Passengers')\n",
    "plt.ylabel('Count')\n",
    "plt.title('Distribution of Dataset based on Survived Passenger')\n",
    "plt.show()"
   ]
  },
  {
   "cell_type": "markdown",
   "id": "20562400",
   "metadata": {
    "papermill": {
     "duration": 0.017058,
     "end_time": "2024-04-08T04:06:08.983854",
     "exception": false,
     "start_time": "2024-04-08T04:06:08.966796",
     "status": "completed"
    },
    "tags": []
   },
   "source": [
    "### Inference\n",
    "* Most of the people came from the 3rd class, accounting for 55.2% of the total, followed by the 1st class at 24.1% and the 2nd class at 20.7%.\n",
    "* The majority of the people are male, constituting 64.9% (577/889) of the total passengers.\n",
    "* Based on the age category column, the majority of passengers were young, representing 50.4% (448/889) of the total.\n",
    "* Most of the passengers embarked from Southampton, comprising 72.5% (644/889) of the total."
   ]
  },
  {
   "cell_type": "markdown",
   "id": "635c140b",
   "metadata": {
    "papermill": {
     "duration": 0.016369,
     "end_time": "2024-04-08T04:06:09.016720",
     "exception": false,
     "start_time": "2024-04-08T04:06:09.000351",
     "status": "completed"
    },
    "tags": []
   },
   "source": [
    "## Feature Engineering"
   ]
  },
  {
   "cell_type": "markdown",
   "id": "c8f034fb",
   "metadata": {
    "papermill": {
     "duration": 0.016586,
     "end_time": "2024-04-08T04:06:09.049714",
     "exception": false,
     "start_time": "2024-04-08T04:06:09.033128",
     "status": "completed"
    },
    "tags": []
   },
   "source": [
    "### Adding new columns "
   ]
  },
  {
   "cell_type": "code",
   "execution_count": 26,
   "id": "10d879a9",
   "metadata": {
    "execution": {
     "iopub.execute_input": "2024-04-08T04:06:09.088323Z",
     "iopub.status.busy": "2024-04-08T04:06:09.087551Z",
     "iopub.status.idle": "2024-04-08T04:06:09.093874Z",
     "shell.execute_reply": "2024-04-08T04:06:09.093219Z"
    },
    "papermill": {
     "duration": 0.029001,
     "end_time": "2024-04-08T04:06:09.095578",
     "exception": false,
     "start_time": "2024-04-08T04:06:09.066577",
     "status": "completed"
    },
    "tags": []
   },
   "outputs": [],
   "source": [
    "titanic['FamilySize'] = titanic['SibSp'] + titanic['Parch'] + 1\n",
    "titanic['IsAlone'] = (titanic['FamilySize'] == 1).astype(int)"
   ]
  },
  {
   "cell_type": "markdown",
   "id": "c8807c9e",
   "metadata": {
    "papermill": {
     "duration": 0.017024,
     "end_time": "2024-04-08T04:06:09.130333",
     "exception": false,
     "start_time": "2024-04-08T04:06:09.113309",
     "status": "completed"
    },
    "tags": []
   },
   "source": [
    "## Bivariate Analysis"
   ]
  },
  {
   "cell_type": "code",
   "execution_count": 27,
   "id": "eb4879c9",
   "metadata": {
    "execution": {
     "iopub.execute_input": "2024-04-08T04:06:09.165671Z",
     "iopub.status.busy": "2024-04-08T04:06:09.165031Z",
     "iopub.status.idle": "2024-04-08T04:06:09.169373Z",
     "shell.execute_reply": "2024-04-08T04:06:09.168732Z"
    },
    "papermill": {
     "duration": 0.024154,
     "end_time": "2024-04-08T04:06:09.170944",
     "exception": false,
     "start_time": "2024-04-08T04:06:09.146790",
     "status": "completed"
    },
    "tags": []
   },
   "outputs": [],
   "source": [
    "def indepedence(p_value,col1,col2):\n",
    "    if p_value < 0.05:\n",
    "        print(f'Rejected H0, {col1} and {col2} are dependent')\n",
    "    else:\n",
    "        print(f'Fail to Reject H0, {col1} and {col2} are independent')"
   ]
  },
  {
   "cell_type": "markdown",
   "id": "aad7379e",
   "metadata": {
    "papermill": {
     "duration": 0.016741,
     "end_time": "2024-04-08T04:06:09.206760",
     "exception": false,
     "start_time": "2024-04-08T04:06:09.190019",
     "status": "completed"
    },
    "tags": []
   },
   "source": [
    "### Pclass v/s Survived"
   ]
  },
  {
   "cell_type": "code",
   "execution_count": 28,
   "id": "b78832fb",
   "metadata": {
    "execution": {
     "iopub.execute_input": "2024-04-08T04:06:09.241264Z",
     "iopub.status.busy": "2024-04-08T04:06:09.240619Z",
     "iopub.status.idle": "2024-04-08T04:06:09.416419Z",
     "shell.execute_reply": "2024-04-08T04:06:09.415069Z"
    },
    "papermill": {
     "duration": 0.195553,
     "end_time": "2024-04-08T04:06:09.418481",
     "exception": false,
     "start_time": "2024-04-08T04:06:09.222928",
     "status": "completed"
    },
    "tags": []
   },
   "outputs": [
    {
     "data": {
      "image/png": "[encoded data removed]",
      "text/plain": [
       "<Figure size 640x480 with 1 Axes>"
      ]
     },
     "metadata": {},
     "output_type": "display_data"
    }
   ],
   "source": [
    "sns.countplot(x='Pclass', hue='Survived', data=titanic, palette='pastel')\n",
    "plt.xlabel('Passenger Class')\n",
    "plt.ylabel('Count')\n",
    "plt.title('Survivors vs. Non-Survivors by Passenger Class')\n",
    "plt.legend(title='Survived', labels=['No', 'Yes'])\n",
    "plt.show()"
   ]
  },
  {
   "cell_type": "code",
   "execution_count": 29,
   "id": "1bd26cf7",
   "metadata": {
    "execution": {
     "iopub.execute_input": "2024-04-08T04:06:09.455597Z",
     "iopub.status.busy": "2024-04-08T04:06:09.455226Z",
     "iopub.status.idle": "2024-04-08T04:06:09.476514Z",
     "shell.execute_reply": "2024-04-08T04:06:09.474922Z"
    },
    "papermill": {
     "duration": 0.042578,
     "end_time": "2024-04-08T04:06:09.478890",
     "exception": false,
     "start_time": "2024-04-08T04:06:09.436312",
     "status": "completed"
    },
    "tags": []
   },
   "outputs": [
    {
     "name": "stdout",
     "output_type": "stream",
     "text": [
      "p-value:  1.1813624785477922e-22\n",
      "Rejected H0, Pclass and Survived are dependent\n"
     ]
    }
   ],
   "source": [
    "val = pd.crosstab(index=titanic[\"Pclass\"], columns=titanic[\"Survived\"]).values\n",
    "\n",
    "# H0: Pclass and Survived are independent\n",
    "# Ha: Pclass and Survived are Dependent\n",
    "p_value = chi2_contingency(val)[1]\n",
    "print(\"p-value: \",p_value)\n",
    "indepedence(p_value,'Pclass','Survived')"
   ]
  },
  {
   "cell_type": "markdown",
   "id": "820cd941",
   "metadata": {
    "papermill": {
     "duration": 0.017472,
     "end_time": "2024-04-08T04:06:09.514075",
     "exception": false,
     "start_time": "2024-04-08T04:06:09.496603",
     "status": "completed"
    },
    "tags": []
   },
   "source": [
    "### Sex v/s Survived"
   ]
  },
  {
   "cell_type": "code",
   "execution_count": 30,
   "id": "c0ad2774",
   "metadata": {
    "execution": {
     "iopub.execute_input": "2024-04-08T04:06:09.551679Z",
     "iopub.status.busy": "2024-04-08T04:06:09.551326Z",
     "iopub.status.idle": "2024-04-08T04:06:09.705305Z",
     "shell.execute_reply": "2024-04-08T04:06:09.704477Z"
    },
    "papermill": {
     "duration": 0.175255,
     "end_time": "2024-04-08T04:06:09.707240",
     "exception": false,
     "start_time": "2024-04-08T04:06:09.531985",
     "status": "completed"
    },
    "tags": []
   },
   "outputs": [
    {
     "data": {
      "image/png": "[encoded data removed]",
      "text/plain": [
       "<Figure size 640x480 with 1 Axes>"
      ]
     },
     "metadata": {},
     "output_type": "display_data"
    }
   ],
   "source": [
    "sns.countplot(x='Sex', hue='Survived', data=titanic, palette='pastel')\n",
    "plt.xlabel('Passenger Gender')\n",
    "plt.ylabel('Count')\n",
    "plt.title('Survivors vs. Non-Survivors by Passenger Gender')\n",
    "plt.legend(title='Survived', labels=['No', 'Yes'])\n",
    "plt.show()"
   ]
  },
  {
   "cell_type": "code",
   "execution_count": 31,
   "id": "347f1ffe",
   "metadata": {
    "execution": {
     "iopub.execute_input": "2024-04-08T04:06:09.747554Z",
     "iopub.status.busy": "2024-04-08T04:06:09.747138Z",
     "iopub.status.idle": "2024-04-08T04:06:09.759290Z",
     "shell.execute_reply": "2024-04-08T04:06:09.758424Z"
    },
    "papermill": {
     "duration": 0.034519,
     "end_time": "2024-04-08T04:06:09.760960",
     "exception": false,
     "start_time": "2024-04-08T04:06:09.726441",
     "status": "completed"
    },
    "tags": []
   },
   "outputs": [
    {
     "name": "stdout",
     "output_type": "stream",
     "text": [
      "p-value:  3.7799096665576e-58\n",
      "Rejected H0, Sex and Survived are dependent\n"
     ]
    }
   ],
   "source": [
    "val = pd.crosstab(index=titanic[\"Sex\"], columns=titanic[\"Survived\"]).values\n",
    "\n",
    "# H0: Sex and Survived are independent\n",
    "# Ha: Sex and Survived are Dependent\n",
    "p_value = chi2_contingency(val)[1]\n",
    "print(\"p-value: \",p_value)\n",
    "indepedence(p_value,'Sex','Survived')"
   ]
  },
  {
   "cell_type": "markdown",
   "id": "601701dd",
   "metadata": {
    "papermill": {
     "duration": 0.018555,
     "end_time": "2024-04-08T04:06:09.797469",
     "exception": false,
     "start_time": "2024-04-08T04:06:09.778914",
     "status": "completed"
    },
    "tags": []
   },
   "source": [
    "### Embarked v/s Survived "
   ]
  },
  {
   "cell_type": "code",
   "execution_count": 32,
   "id": "5b7d38f1",
   "metadata": {
    "execution": {
     "iopub.execute_input": "2024-04-08T04:06:09.837064Z",
     "iopub.status.busy": "2024-04-08T04:06:09.836011Z",
     "iopub.status.idle": "2024-04-08T04:06:10.047918Z",
     "shell.execute_reply": "2024-04-08T04:06:10.046603Z"
    },
    "papermill": {
     "duration": 0.233866,
     "end_time": "2024-04-08T04:06:10.050358",
     "exception": false,
     "start_time": "2024-04-08T04:06:09.816492",
     "status": "completed"
    },
    "tags": []
   },
   "outputs": [
    {
     "data": {
      "image/png": "[encoded data removed]",
      "text/plain": [
       "<Figure size 640x480 with 1 Axes>"
      ]
     },
     "metadata": {},
     "output_type": "display_data"
    }
   ],
   "source": [
    "sns.countplot(x='Embarked', hue='Survived', data=titanic, palette='pastel')\n",
    "plt.xlabel('Passenger Port of Embarkation')\n",
    "plt.ylabel('Count')\n",
    "plt.title('Survivors vs. Non-Survivors by Passenger Port of Embarkation')\n",
    "plt.legend(title='Survived', labels=['No', 'Yes'])\n",
    "plt.show()"
   ]
  },
  {
   "cell_type": "code",
   "execution_count": 33,
   "id": "dec6492e",
   "metadata": {
    "execution": {
     "iopub.execute_input": "2024-04-08T04:06:10.089903Z",
     "iopub.status.busy": "2024-04-08T04:06:10.089443Z",
     "iopub.status.idle": "2024-04-08T04:06:10.105359Z",
     "shell.execute_reply": "2024-04-08T04:06:10.103804Z"
    },
    "papermill": {
     "duration": 0.038953,
     "end_time": "2024-04-08T04:06:10.107433",
     "exception": false,
     "start_time": "2024-04-08T04:06:10.068480",
     "status": "completed"
    },
    "tags": []
   },
   "outputs": [
    {
     "name": "stdout",
     "output_type": "stream",
     "text": [
      "p-value:  1.769922284120912e-06\n",
      "Rejected H0, Embarked and Survived are dependent\n"
     ]
    }
   ],
   "source": [
    "val = pd.crosstab(index=titanic[\"Embarked\"], columns=titanic[\"Survived\"]).values\n",
    "\n",
    "# H0: Embarked and Survived are independent\n",
    "# Ha: Embarked and Survived are Dependent\n",
    "p_value = chi2_contingency(val)[1]\n",
    "print(\"p-value: \",p_value)\n",
    "indepedence(p_value,'Embarked','Survived')"
   ]
  },
  {
   "cell_type": "markdown",
   "id": "96867efd",
   "metadata": {
    "papermill": {
     "duration": 0.01839,
     "end_time": "2024-04-08T04:06:10.144165",
     "exception": false,
     "start_time": "2024-04-08T04:06:10.125775",
     "status": "completed"
    },
    "tags": []
   },
   "source": [
    "### Age_category v/s Survived"
   ]
  },
  {
   "cell_type": "code",
   "execution_count": 34,
   "id": "02345e24",
   "metadata": {
    "execution": {
     "iopub.execute_input": "2024-04-08T04:06:10.184009Z",
     "iopub.status.busy": "2024-04-08T04:06:10.182635Z",
     "iopub.status.idle": "2024-04-08T04:06:10.409609Z",
     "shell.execute_reply": "2024-04-08T04:06:10.408808Z"
    },
    "papermill": {
     "duration": 0.249498,
     "end_time": "2024-04-08T04:06:10.412305",
     "exception": false,
     "start_time": "2024-04-08T04:06:10.162807",
     "status": "completed"
    },
    "tags": []
   },
   "outputs": [
    {
     "name": "stderr",
     "output_type": "stream",
     "text": [
      "/opt/conda/lib/python3.10/site-packages/seaborn/categorical.py:641: FutureWarning: The default of observed=False is deprecated and will be changed to True in a future version of pandas. Pass observed=False to retain current behavior or observed=True to adopt the future default and silence this warning.\n",
      "  grouped_vals = vals.groupby(grouper)\n",
      "/opt/conda/lib/python3.10/site-packages/seaborn/categorical.py:641: FutureWarning: The default of observed=False is deprecated and will be changed to True in a future version of pandas. Pass observed=False to retain current behavior or observed=True to adopt the future default and silence this warning.\n",
      "  grouped_vals = vals.groupby(grouper)\n"
     ]
    },
    {
     "data": {
      "image/png": "[encoded data removed]",
      "text/plain": [
       "<Figure size 640x480 with 1 Axes>"
      ]
     },
     "metadata": {},
     "output_type": "display_data"
    }
   ],
   "source": [
    "sns.countplot(x='Age_Category', hue='Survived', data=titanic, palette='pastel')\n",
    "plt.xlabel('Passenger Age Category')\n",
    "plt.ylabel('Count')\n",
    "plt.title('Survivors vs. Non-Survivors by Passenger Age Category')\n",
    "plt.legend(title='Survived', labels=['No', 'Yes'])\n",
    "plt.show()"
   ]
  },
  {
   "cell_type": "code",
   "execution_count": 35,
   "id": "7fefb3ac",
   "metadata": {
    "execution": {
     "iopub.execute_input": "2024-04-08T04:06:10.452893Z",
     "iopub.status.busy": "2024-04-08T04:06:10.451979Z",
     "iopub.status.idle": "2024-04-08T04:06:10.467665Z",
     "shell.execute_reply": "2024-04-08T04:06:10.466967Z"
    },
    "papermill": {
     "duration": 0.036927,
     "end_time": "2024-04-08T04:06:10.469503",
     "exception": false,
     "start_time": "2024-04-08T04:06:10.432576",
     "status": "completed"
    },
    "tags": []
   },
   "outputs": [
    {
     "name": "stdout",
     "output_type": "stream",
     "text": [
      "p-value:  0.00012045323610055177\n",
      "Rejected H0, Age_Category and Survived are dependent\n"
     ]
    }
   ],
   "source": [
    "val = pd.crosstab(index=titanic[\"Age_Category\"], columns=titanic[\"Survived\"]).values\n",
    "\n",
    "# H0: Age_Category and Survived are independent\n",
    "# Ha: Age_Category and Survived are Dependent\n",
    "p_value = chi2_contingency(val)[1]\n",
    "print(\"p-value: \",p_value)\n",
    "indepedence(p_value,'Age_Category','Survived')"
   ]
  },
  {
   "cell_type": "markdown",
   "id": "521158a9",
   "metadata": {
    "papermill": {
     "duration": 0.018261,
     "end_time": "2024-04-08T04:06:10.506233",
     "exception": false,
     "start_time": "2024-04-08T04:06:10.487972",
     "status": "completed"
    },
    "tags": []
   },
   "source": [
    "### Age v/s Survived"
   ]
  },
  {
   "cell_type": "code",
   "execution_count": 36,
   "id": "b84a74bc",
   "metadata": {
    "execution": {
     "iopub.execute_input": "2024-04-08T04:06:10.547223Z",
     "iopub.status.busy": "2024-04-08T04:06:10.546577Z",
     "iopub.status.idle": "2024-04-08T04:06:10.556347Z",
     "shell.execute_reply": "2024-04-08T04:06:10.555242Z"
    },
    "papermill": {
     "duration": 0.033535,
     "end_time": "2024-04-08T04:06:10.558478",
     "exception": false,
     "start_time": "2024-04-08T04:06:10.524943",
     "status": "completed"
    },
    "tags": []
   },
   "outputs": [
    {
     "name": "stdout",
     "output_type": "stream",
     "text": [
      "p-value:  0.03739522542606732\n",
      "Rejected H0, Age and Survived are dependent\n"
     ]
    }
   ],
   "source": [
    "age_not_survived = titanic[titanic[\"Survived\"]==0][\"Age\"]\n",
    "age_survived = titanic[titanic[\"Survived\"]==1][\"Age\"]\n",
    "\n",
    "# H0: Age and Survived are independent\n",
    "# Ha: Age and Survived are Dependent\n",
    "p_value = ttest_ind(age_not_survived, age_survived)[1]\n",
    "print(\"p-value: \",p_value)\n",
    "indepedence(p_value,'Age','Survived')"
   ]
  },
  {
   "cell_type": "code",
   "execution_count": 37,
   "id": "c7a7579b",
   "metadata": {
    "execution": {
     "iopub.execute_input": "2024-04-08T04:06:10.601580Z",
     "iopub.status.busy": "2024-04-08T04:06:10.600786Z",
     "iopub.status.idle": "2024-04-08T04:06:10.882034Z",
     "shell.execute_reply": "2024-04-08T04:06:10.880158Z"
    },
    "papermill": {
     "duration": 0.305786,
     "end_time": "2024-04-08T04:06:10.884090",
     "exception": false,
     "start_time": "2024-04-08T04:06:10.578304",
     "status": "completed"
    },
    "tags": []
   },
   "outputs": [
    {
     "name": "stderr",
     "output_type": "stream",
     "text": [
      "/opt/conda/lib/python3.10/site-packages/seaborn/_oldcore.py:1119: FutureWarning: use_inf_as_na option is deprecated and will be removed in a future version. Convert inf values to NaN before operating instead.\n",
      "  with pd.option_context('mode.use_inf_as_na', True):\n",
      "/opt/conda/lib/python3.10/site-packages/seaborn/_oldcore.py:1119: FutureWarning: use_inf_as_na option is deprecated and will be removed in a future version. Convert inf values to NaN before operating instead.\n",
      "  with pd.option_context('mode.use_inf_as_na', True):\n"
     ]
    },
    {
     "data": {
      "image/png": "[encoded data removed]",
      "text/plain": [
       "<Figure size 640x480 with 1 Axes>"
      ]
     },
     "metadata": {},
     "output_type": "display_data"
    }
   ],
   "source": [
    "sns.kdeplot(age_not_survived, fill=True)\n",
    "sns.kdeplot(age_survived, fill=True)\n",
    "plt.xlabel('Age')\n",
    "plt.ylabel('Density')\n",
    "plt.title('KDE of Age by Survival Status')\n",
    "plt.legend(title='Survived', labels=['No', 'Yes'])\n",
    "plt.show()"
   ]
  },
  {
   "cell_type": "markdown",
   "id": "e2c331c7",
   "metadata": {
    "papermill": {
     "duration": 0.019002,
     "end_time": "2024-04-08T04:06:10.922732",
     "exception": false,
     "start_time": "2024-04-08T04:06:10.903730",
     "status": "completed"
    },
    "tags": []
   },
   "source": [
    "### Fare v/s Survived"
   ]
  },
  {
   "cell_type": "code",
   "execution_count": 38,
   "id": "6f35b65b",
   "metadata": {
    "execution": {
     "iopub.execute_input": "2024-04-08T04:06:10.963528Z",
     "iopub.status.busy": "2024-04-08T04:06:10.963116Z",
     "iopub.status.idle": "2024-04-08T04:06:10.976167Z",
     "shell.execute_reply": "2024-04-08T04:06:10.974518Z"
    },
    "papermill": {
     "duration": 0.035705,
     "end_time": "2024-04-08T04:06:10.978567",
     "exception": false,
     "start_time": "2024-04-08T04:06:10.942862",
     "status": "completed"
    },
    "tags": []
   },
   "outputs": [
    {
     "name": "stdout",
     "output_type": "stream",
     "text": [
      "p-value:  1.0797887540538483e-14\n",
      "Rejected H0, Fare and Survived are dependent\n"
     ]
    }
   ],
   "source": [
    "fare_not_survived = titanic[titanic[\"Survived\"]==0][\"Fare\"]\n",
    "fare_survived = titanic[titanic[\"Survived\"]==1][\"Fare\"]\n",
    "\n",
    "# H0: Fare and Survived are independent\n",
    "# Ha: Fare and Survived are Dependent\n",
    "p_value = ttest_ind(fare_not_survived, fare_survived)[1]\n",
    "print(\"p-value: \",p_value)\n",
    "indepedence(p_value,'Fare','Survived')"
   ]
  },
  {
   "cell_type": "code",
   "execution_count": 39,
   "id": "fe186672",
   "metadata": {
    "execution": {
     "iopub.execute_input": "2024-04-08T04:06:11.023617Z",
     "iopub.status.busy": "2024-04-08T04:06:11.023282Z",
     "iopub.status.idle": "2024-04-08T04:06:11.344358Z",
     "shell.execute_reply": "2024-04-08T04:06:11.342278Z"
    },
    "papermill": {
     "duration": 0.347254,
     "end_time": "2024-04-08T04:06:11.346894",
     "exception": false,
     "start_time": "2024-04-08T04:06:10.999640",
     "status": "completed"
    },
    "tags": []
   },
   "outputs": [
    {
     "name": "stderr",
     "output_type": "stream",
     "text": [
      "/opt/conda/lib/python3.10/site-packages/seaborn/_oldcore.py:1119: FutureWarning: use_inf_as_na option is deprecated and will be removed in a future version. Convert inf values to NaN before operating instead.\n",
      "  with pd.option_context('mode.use_inf_as_na', True):\n",
      "/opt/conda/lib/python3.10/site-packages/seaborn/_oldcore.py:1119: FutureWarning: use_inf_as_na option is deprecated and will be removed in a future version. Convert inf values to NaN before operating instead.\n",
      "  with pd.option_context('mode.use_inf_as_na', True):\n"
     ]
    },
    {
     "data": {
      "image/png": "[encoded data removed]",
      "text/plain": [
       "<Figure size 640x480 with 1 Axes>"
      ]
     },
     "metadata": {},
     "output_type": "display_data"
    }
   ],
   "source": [
    "sns.kdeplot(fare_not_survived, fill=True)\n",
    "sns.kdeplot(fare_survived, fill=True)\n",
    "plt.xlabel('Fare')\n",
    "plt.ylabel('Density')\n",
    "plt.title('KDE of Fare by Survival Status')\n",
    "plt.legend(title='Survived', labels=['No', 'Yes'])\n",
    "plt.show()"
   ]
  },
  {
   "cell_type": "markdown",
   "id": "7cc8f367",
   "metadata": {
    "papermill": {
     "duration": 0.019435,
     "end_time": "2024-04-08T04:06:11.385989",
     "exception": false,
     "start_time": "2024-04-08T04:06:11.366554",
     "status": "completed"
    },
    "tags": []
   },
   "source": [
    "### Parch v/s Survived"
   ]
  },
  {
   "cell_type": "code",
   "execution_count": 40,
   "id": "18189e7b",
   "metadata": {
    "execution": {
     "iopub.execute_input": "2024-04-08T04:06:11.427901Z",
     "iopub.status.busy": "2024-04-08T04:06:11.426924Z",
     "iopub.status.idle": "2024-04-08T04:06:11.437052Z",
     "shell.execute_reply": "2024-04-08T04:06:11.435697Z"
    },
    "papermill": {
     "duration": 0.032361,
     "end_time": "2024-04-08T04:06:11.438834",
     "exception": false,
     "start_time": "2024-04-08T04:06:11.406473",
     "status": "completed"
    },
    "tags": []
   },
   "outputs": [
    {
     "name": "stdout",
     "output_type": "stream",
     "text": [
      "p-value:  0.013136766201094989\n",
      "Rejected H0, Parch and Survived are dependent\n"
     ]
    }
   ],
   "source": [
    "parch_not_survived = titanic[titanic[\"Survived\"]==0][\"Parch\"]\n",
    "parch_survived = titanic[titanic[\"Survived\"]==1][\"Parch\"]\n",
    "\n",
    "# H0: Parch and Survived are independent\n",
    "# Ha: Parch and Survived are Dependent\n",
    "p_value = ttest_ind(parch_not_survived, parch_survived)[1]\n",
    "print(\"p-value: \",p_value)\n",
    "indepedence(p_value,'Parch','Survived')"
   ]
  },
  {
   "cell_type": "code",
   "execution_count": 41,
   "id": "22228818",
   "metadata": {
    "execution": {
     "iopub.execute_input": "2024-04-08T04:06:11.480471Z",
     "iopub.status.busy": "2024-04-08T04:06:11.479694Z",
     "iopub.status.idle": "2024-04-08T04:06:11.805426Z",
     "shell.execute_reply": "2024-04-08T04:06:11.804802Z"
    },
    "papermill": {
     "duration": 0.347916,
     "end_time": "2024-04-08T04:06:11.807102",
     "exception": false,
     "start_time": "2024-04-08T04:06:11.459186",
     "status": "completed"
    },
    "tags": []
   },
   "outputs": [
    {
     "name": "stderr",
     "output_type": "stream",
     "text": [
      "/opt/conda/lib/python3.10/site-packages/seaborn/_oldcore.py:1119: FutureWarning: use_inf_as_na option is deprecated and will be removed in a future version. Convert inf values to NaN before operating instead.\n",
      "  with pd.option_context('mode.use_inf_as_na', True):\n",
      "/opt/conda/lib/python3.10/site-packages/seaborn/_oldcore.py:1119: FutureWarning: use_inf_as_na option is deprecated and will be removed in a future version. Convert inf values to NaN before operating instead.\n",
      "  with pd.option_context('mode.use_inf_as_na', True):\n"
     ]
    },
    {
     "data": {
      "image/png": "[encoded data removed]",
      "text/plain": [
       "<Figure size 640x480 with 1 Axes>"
      ]
     },
     "metadata": {},
     "output_type": "display_data"
    }
   ],
   "source": [
    "sns.kdeplot(parch_not_survived, fill=True)\n",
    "sns.kdeplot(parch_survived, fill=True)\n",
    "plt.xlabel('Parch')\n",
    "plt.ylabel('Density')\n",
    "plt.title('KDE of Parch by Survival Status')\n",
    "plt.legend(title='Survived', labels=['No', 'Yes'])\n",
    "plt.show()"
   ]
  },
  {
   "cell_type": "markdown",
   "id": "c8ffce8f",
   "metadata": {
    "papermill": {
     "duration": 0.019808,
     "end_time": "2024-04-08T04:06:11.846853",
     "exception": false,
     "start_time": "2024-04-08T04:06:11.827045",
     "status": "completed"
    },
    "tags": []
   },
   "source": [
    "### Sibsp v/s Survived"
   ]
  },
  {
   "cell_type": "code",
   "execution_count": 42,
   "id": "59bcccc6",
   "metadata": {
    "execution": {
     "iopub.execute_input": "2024-04-08T04:06:11.890692Z",
     "iopub.status.busy": "2024-04-08T04:06:11.889792Z",
     "iopub.status.idle": "2024-04-08T04:06:11.898687Z",
     "shell.execute_reply": "2024-04-08T04:06:11.897791Z"
    },
    "papermill": {
     "duration": 0.032997,
     "end_time": "2024-04-08T04:06:11.900408",
     "exception": false,
     "start_time": "2024-04-08T04:06:11.867411",
     "status": "completed"
    },
    "tags": []
   },
   "outputs": [
    {
     "name": "stdout",
     "output_type": "stream",
     "text": [
      "p-value:  0.3106753734113619\n",
      "Fail to Reject H0, SibSp and Survived are independent\n"
     ]
    }
   ],
   "source": [
    "sib_not_survived = titanic[titanic[\"Survived\"]==0][\"SibSp\"]\n",
    "sib_survived = titanic[titanic[\"Survived\"]==1][\"SibSp\"]\n",
    "\n",
    "# H0: SibSp and Survived are independent\n",
    "# Ha: SibSp and Survived are Dependent\n",
    "p_value = ttest_ind(sib_not_survived, sib_survived)[1]\n",
    "print(\"p-value: \",p_value)\n",
    "indepedence(p_value,'SibSp','Survived')"
   ]
  },
  {
   "cell_type": "code",
   "execution_count": 43,
   "id": "2cffe688",
   "metadata": {
    "execution": {
     "iopub.execute_input": "2024-04-08T04:06:11.943036Z",
     "iopub.status.busy": "2024-04-08T04:06:11.942453Z",
     "iopub.status.idle": "2024-04-08T04:06:12.371145Z",
     "shell.execute_reply": "2024-04-08T04:06:12.370032Z"
    },
    "papermill": {
     "duration": 0.452598,
     "end_time": "2024-04-08T04:06:12.373308",
     "exception": false,
     "start_time": "2024-04-08T04:06:11.920710",
     "status": "completed"
    },
    "tags": []
   },
   "outputs": [
    {
     "name": "stderr",
     "output_type": "stream",
     "text": [
      "/opt/conda/lib/python3.10/site-packages/seaborn/_oldcore.py:1119: FutureWarning: use_inf_as_na option is deprecated and will be removed in a future version. Convert inf values to NaN before operating instead.\n",
      "  with pd.option_context('mode.use_inf_as_na', True):\n",
      "/opt/conda/lib/python3.10/site-packages/seaborn/_oldcore.py:1119: FutureWarning: use_inf_as_na option is deprecated and will be removed in a future version. Convert inf values to NaN before operating instead.\n",
      "  with pd.option_context('mode.use_inf_as_na', True):\n"
     ]
    },
    {
     "data": {
      "image/png": "[encoded data removed]",
      "text/plain": [
       "<Figure size 640x480 with 1 Axes>"
      ]
     },
     "metadata": {},
     "output_type": "display_data"
    }
   ],
   "source": [
    "sns.kdeplot(sib_not_survived, fill=True)\n",
    "sns.kdeplot(sib_survived, fill=True)\n",
    "plt.xlabel('Sibsp')\n",
    "plt.ylabel('Density')\n",
    "plt.title('KDE of Sibsp by Survival Status')\n",
    "plt.legend(title='Survived', labels=['No', 'Yes'])\n",
    "plt.show()"
   ]
  },
  {
   "cell_type": "markdown",
   "id": "3bed8f96",
   "metadata": {
    "papermill": {
     "duration": 0.020206,
     "end_time": "2024-04-08T04:06:12.414785",
     "exception": false,
     "start_time": "2024-04-08T04:06:12.394579",
     "status": "completed"
    },
    "tags": []
   },
   "source": [
    "### Family Size v/s Survived"
   ]
  },
  {
   "cell_type": "code",
   "execution_count": 44,
   "id": "ebc99778",
   "metadata": {
    "execution": {
     "iopub.execute_input": "2024-04-08T04:06:12.457617Z",
     "iopub.status.busy": "2024-04-08T04:06:12.457280Z",
     "iopub.status.idle": "2024-04-08T04:06:12.467059Z",
     "shell.execute_reply": "2024-04-08T04:06:12.466325Z"
    },
    "papermill": {
     "duration": 0.034457,
     "end_time": "2024-04-08T04:06:12.469396",
     "exception": false,
     "start_time": "2024-04-08T04:06:12.434939",
     "status": "completed"
    },
    "tags": []
   },
   "outputs": [
    {
     "name": "stdout",
     "output_type": "stream",
     "text": [
      "p-value:  0.5862752380464455\n",
      "Fail to Reject H0, FamilySize and Survived are independent\n"
     ]
    }
   ],
   "source": [
    "familysize_not_survived = titanic[titanic[\"Survived\"]==0][\"FamilySize\"]\n",
    "familysize_survived = titanic[titanic[\"Survived\"]==1][\"FamilySize\"]\n",
    "\n",
    "# H0: FamilySize and Survived are independent\n",
    "# Ha: FamilySize and Survived are Dependent\n",
    "p_value = ttest_ind(familysize_not_survived, familysize_survived)[1]\n",
    "print(\"p-value: \",p_value)\n",
    "indepedence(p_value,'FamilySize','Survived')"
   ]
  },
  {
   "cell_type": "markdown",
   "id": "90adae7c",
   "metadata": {
    "papermill": {
     "duration": 0.020689,
     "end_time": "2024-04-08T04:06:12.510357",
     "exception": false,
     "start_time": "2024-04-08T04:06:12.489668",
     "status": "completed"
    },
    "tags": []
   },
   "source": [
    "### IsAlone v/s Survived"
   ]
  },
  {
   "cell_type": "code",
   "execution_count": 45,
   "id": "3fd3bf62",
   "metadata": {
    "execution": {
     "iopub.execute_input": "2024-04-08T04:06:12.556549Z",
     "iopub.status.busy": "2024-04-08T04:06:12.556161Z",
     "iopub.status.idle": "2024-04-08T04:06:12.570992Z",
     "shell.execute_reply": "2024-04-08T04:06:12.569779Z"
    },
    "papermill": {
     "duration": 0.039803,
     "end_time": "2024-04-08T04:06:12.572882",
     "exception": false,
     "start_time": "2024-04-08T04:06:12.533079",
     "status": "completed"
    },
    "tags": []
   },
   "outputs": [
    {
     "name": "stdout",
     "output_type": "stream",
     "text": [
      "p-value:  1.2184807337771435e-09\n",
      "Rejected H0, IsAlone and Survived are dependent\n"
     ]
    }
   ],
   "source": [
    "val = pd.crosstab(index=titanic[\"IsAlone\"], columns=titanic[\"Survived\"]).values\n",
    "\n",
    "# H0: IsAlone and Survived are independent\n",
    "# Ha: IsAlone and Survived are Dependent\n",
    "p_value = chi2_contingency(val)[1]\n",
    "print(\"p-value: \",p_value)\n",
    "indepedence(p_value,'IsAlone','Survived')"
   ]
  },
  {
   "cell_type": "markdown",
   "id": "79ef4539",
   "metadata": {
    "papermill": {
     "duration": 0.021691,
     "end_time": "2024-04-08T04:06:12.616193",
     "exception": false,
     "start_time": "2024-04-08T04:06:12.594502",
     "status": "completed"
    },
    "tags": []
   },
   "source": [
    "### Inference\n",
    "Based on above observations,\n",
    "* Passengers in Class 1 have a higher chance of survival compared to the other classes.\n",
    "* The survival rate for females is higher than that for males.\n",
    "* Passengers embarking from Southampton have a higher survival rate.\n",
    "* There is a higher survival rate among children and youngsters in the age category.\n",
    "* We are dropping the 'FamilySize' and 'SibSp' columns as they are not significantly correlated with the survival rate.\n",
    "* removing the 'Age' column and use the 'Age_Category' column instead. As 'Age' has a non-linear or categorical effect on the outcome variable (survival rate).\n"
   ]
  },
  {
   "cell_type": "code",
   "execution_count": 46,
   "id": "109b2834",
   "metadata": {
    "execution": {
     "iopub.execute_input": "2024-04-08T04:06:12.660363Z",
     "iopub.status.busy": "2024-04-08T04:06:12.660002Z",
     "iopub.status.idle": "2024-04-08T04:06:12.666117Z",
     "shell.execute_reply": "2024-04-08T04:06:12.664843Z"
    },
    "papermill": {
     "duration": 0.030612,
     "end_time": "2024-04-08T04:06:12.668432",
     "exception": false,
     "start_time": "2024-04-08T04:06:12.637820",
     "status": "completed"
    },
    "tags": []
   },
   "outputs": [],
   "source": [
    "titanic.drop(['FamilySize', 'SibSp','Age'], axis=1, inplace=True)"
   ]
  },
  {
   "cell_type": "code",
   "execution_count": 47,
   "id": "95b5838d",
   "metadata": {
    "execution": {
     "iopub.execute_input": "2024-04-08T04:06:12.712306Z",
     "iopub.status.busy": "2024-04-08T04:06:12.711979Z",
     "iopub.status.idle": "2024-04-08T04:06:12.722904Z",
     "shell.execute_reply": "2024-04-08T04:06:12.722121Z"
    },
    "papermill": {
     "duration": 0.034797,
     "end_time": "2024-04-08T04:06:12.724956",
     "exception": false,
     "start_time": "2024-04-08T04:06:12.690159",
     "status": "completed"
    },
    "tags": []
   },
   "outputs": [
    {
     "name": "stdout",
     "output_type": "stream",
     "text": [
      "<class 'pandas.core.frame.DataFrame'>\n",
      "Index: 889 entries, 0 to 890\n",
      "Data columns (total 8 columns):\n",
      " #   Column        Non-Null Count  Dtype   \n",
      "---  ------        --------------  -----   \n",
      " 0   Survived      889 non-null    int64   \n",
      " 1   Pclass        889 non-null    int64   \n",
      " 2   Sex           889 non-null    object  \n",
      " 3   Parch         889 non-null    int64   \n",
      " 4   Fare          889 non-null    float64 \n",
      " 5   Embarked      889 non-null    object  \n",
      " 6   Age_Category  889 non-null    category\n",
      " 7   IsAlone       889 non-null    int64   \n",
      "dtypes: category(1), float64(1), int64(4), object(2)\n",
      "memory usage: 56.6+ KB\n"
     ]
    }
   ],
   "source": [
    "titanic.info()"
   ]
  },
  {
   "cell_type": "markdown",
   "id": "68abd953",
   "metadata": {
    "papermill": {
     "duration": 0.021306,
     "end_time": "2024-04-08T04:06:12.768322",
     "exception": false,
     "start_time": "2024-04-08T04:06:12.747016",
     "status": "completed"
    },
    "tags": []
   },
   "source": [
    "## Final Inference\n",
    "Based on the analysis of the Titanic dataset, we can make the following final inferences:\n",
    "\n",
    "1. **Data Overview**:\n",
    "   - The dataset has 891 rows and 12 columns.\n",
    "   - There are missing values in the 'Age', 'Cabin', and 'Embarked' columns.\n",
    "\n",
    "2. **Data Cleaning**:\n",
    "   - We handled missing values for the 'Age' and 'Embarked' columns.\n",
    "   - The 'Cabin' column was removed due to a high percentage of missing values (77.1%).\n",
    "   - The 'PassengerId', 'Ticket', and 'Name' columns were also removed as they are not relevant for analysis.\n",
    "\n",
    "3. **Data Distribution**:\n",
    "   - The distribution for age appears to be right-skewed, so we decided to use the median instead of the mean for certain calculations.\n",
    "\n",
    "4. **Passenger Analysis**:\n",
    "   - The majority of passengers were from the 3rd class (55.2%), followed by the 1st class (24.1%) and the 2nd class (20.7%).\n",
    "   - Most passengers were male (64.9%).\n",
    "   - Most passengers embarked from Southampton (72.5%).\n",
    "\n",
    "5. **Survival Analysis**:\n",
    "   - Passengers in the 1st class had a higher chance of survival.\n",
    "   - Females had a higher survival rate than males.\n",
    "   - Passengers embarking from Southampton had a higher survival rate.\n",
    "   - Children and youngsters had a higher survival rate.\n",
    "\n",
    "6. **Feature Engineering**:\n",
    "   - Next, we conducted bivariate analysis using the t-test for independence to compare numerical variables with the categorical 'Survived' column, and the chi-square test of independence to analyze the relationship between categorical variables and the 'Survived' column.\n",
    "   - We removed the 'FamilySize' and 'SibSp' columns as they were not significantly correlated with the survival rate based on ttest and chi-squared test.\n",
    "   - We removed the 'Age' column and used the 'Age_Category' column instead, as age had a non-linear or categorical effect on the survival rate.\n",
    "\n",
    "In conclusion, the analysis indicates that factors such as passenger class, sex, age category, and embarked port were significant predictors of survival on the Titanic. These findings can be used for further analysis and modeling to understand the factors influencing survival rates on the Titanic."
   ]
  },
  {
   "cell_type": "code",
   "execution_count": null,
   "id": "b08b2781",
   "metadata": {
    "papermill": {
     "duration": 0.021468,
     "end_time": "2024-04-08T04:06:12.811502",
     "exception": false,
     "start_time": "2024-04-08T04:06:12.790034",
     "status": "completed"
    },
    "tags": []
   },
   "outputs": [],
   "source": []
  }
 ],
 "metadata": {
  "kaggle": {
   "accelerator": "none",
   "dataSources": [
    {
     "databundleVersionId": 26502,
     "sourceId": 3136,
     "sourceType": "competition"
    }
   ],
   "dockerImageVersionId": 30673,
   "isGpuEnabled": false,
   "isInternetEnabled": false,
   "language": "python",
   "sourceType": "notebook"
  },
  "kernelspec": {
   "display_name": "Python 3",
   "language": "python",
   "name": "python3"
  },
  "language_info": {
   "codemirror_mode": {
    "name": "ipython",
    "version": 3
   },
   "file_extension": ".py",
   "mimetype": "text/x-python",
   "name": "python",
   "nbconvert_exporter": "python",
   "pygments_lexer": "ipython3",
   "version": "3.10.13"
  },
  "papermill": {
   "default_parameters": {},
   "duration": 12.784627,
   "end_time": "2024-04-08T04:06:13.554071",
   "environment_variables": {},
   "exception": null,
   "input_path": "__notebook__.ipynb",
   "output_path": "__notebook__.ipynb",
   "parameters": {},
   "start_time": "2024-04-08T04:06:00.769444",
   "version": "2.5.0"
  }
 },
 "nbformat": 4,
 "nbformat_minor": 5
}

{
 "cells": [
  {
   "cell_type": "markdown",
   "id": "67c30552",
   "metadata": {
    "papermill": {
     "duration": 0.011465,
     "end_time": "2024-04-06T19:20:51.291005",
     "exception": false,
     "start_time": "2024-04-06T19:20:51.279540",
     "status": "completed"
    },
    "tags": []
   },
   "source": [
    "The Titanic dataset is a classic dataset used for machine learning and data analysis. It contains information about passengers who were aboard the RMS Titanic when it sank on its maiden voyage in 1912, including whether they survived or not. The dataset includes features such as passenger class, sex, age, siblings/spouses aboard, parents/children aboard, ticket number, fare, cabin number, and port of embarkation.\n",
    "\n",
    "Researchers and data scientists often use this dataset to explore various aspects of the Titanic tragedy, such as the demographics of the passengers, factors that affected survival rates. It is a popular dataset for beginners in data science due to its relative simplicity."
   ]
  },
  {
   "cell_type": "markdown",
   "id": "992f6f7e",
   "metadata": {
    "papermill": {
     "duration": 0.010611,
     "end_time": "2024-04-06T19:20:51.313466",
     "exception": false,
     "start_time": "2024-04-06T19:20:51.302855",
     "status": "completed"
    },
    "tags": []
   },
   "source": [
    "**Column Profiling:**\n",
    "1. **PassengerId:**\n",
    "*     Data type: Integer\n",
    "*     Unique values: Identifies each passenger uniquely.\n",
    "2. **Survived:**\n",
    "*   Data type: Integer (0 or 1)\n",
    "*    Distribution: Number of passengers who survived (1) vs. those who did not (0). \n",
    "3. **Pclass:**\n",
    "*    Data type: Integer (1, 2, or 3)\n",
    "*    Distribution: Distribution of passengers across different classes (1st, 2nd, 3rd).\n",
    "4. **Name:**\n",
    "*    Data type: String\n",
    "*    Unique values: Each value is unique.\n",
    "5. **Sex:**\n",
    "*    Data type: String (male or female)\n",
    "*    Distribution: Number of male vs. female passengers.\n",
    "*    Summary: Gender of the passenger.\n",
    "6. **Age:**\n",
    "*    Data type: Float\n",
    "*    Missing values: Number of missing values.\n",
    "*    Summary: Age of the passenger.\n",
    "7. **SibSp:**\n",
    "*    Data type: Integer\n",
    "*    Distribution: Number of siblings/spouses aboard.\n",
    "*    Summary: Indicates the presence of siblings or spouses.\n",
    "8. **Parch:**\n",
    "*    Data type: Integer\n",
    "*    Distribution: Number of parents/children aboard.\n",
    "*    Summary: Indicates the presence of parents or children.\n",
    "9. **Ticket:**\n",
    "*    Data type: String\n",
    "*    Unique values: Number of unique ticket numbers.\n",
    "*    Summary: Ticket number of the passenger.\n",
    "10. **Fare:**\n",
    "*    Data type: Float\n",
    "*    Summary: Fare paid by the passenger.\n",
    "11. **Cabin:**\n",
    "*    Data type: String\n",
    "*    Missing values: Number of missing values.\n",
    "*    Summary: Cabin number of the passenger.\n",
    "12. **Embarked:**\n",
    "*    Data type: String Category (C, Q, S)\n",
    "*    Distribution: Number of passengers embarked at each port.\n",
    "*    Missing values: Number of missing values.\n",
    "*    Summary: Port of embarkation."
   ]
  },
  {
   "cell_type": "code",
   "execution_count": 1,
   "id": "17f47913",
   "metadata": {
    "execution": {
     "iopub.execute_input": "2024-04-06T19:20:51.337451Z",
     "iopub.status.busy": "2024-04-06T19:20:51.336975Z",
     "iopub.status.idle": "2024-04-06T19:20:54.766209Z",
     "shell.execute_reply": "2024-04-06T19:20:54.764411Z"
    },
    "papermill": {
     "duration": 3.444879,
     "end_time": "2024-04-06T19:20:54.769307",
     "exception": false,
     "start_time": "2024-04-06T19:20:51.324428",
     "status": "completed"
    },
    "tags": []
   },
   "outputs": [
    {
     "name": "stdout",
     "output_type": "stream",
     "text": [
      "/kaggle/input/titanic/train.csv\n",
      "/kaggle/input/titanic/test.csv\n",
      "/kaggle/input/titanic/gender_submission.csv\n"
     ]
    }
   ],
   "source": [
    "import numpy as np # linear algebra\n",
    "import pandas as pd # data processing\n",
    "import matplotlib.pyplot as plt # data visualization\n",
    "import seaborn as sns # data visualization\n",
    "from sklearn.impute import SimpleImputer\n",
    "import os\n",
    "for dirname, _, filenames in os.walk('/kaggle/input'):\n",
    "    for filename in filenames:\n",
    "        print(os.path.join(dirname, filename))"
   ]
  },
  {
   "cell_type": "markdown",
   "id": "cd59b7b5",
   "metadata": {
    "papermill": {
     "duration": 0.010791,
     "end_time": "2024-04-06T19:20:54.791479",
     "exception": false,
     "start_time": "2024-04-06T19:20:54.780688",
     "status": "completed"
    },
    "tags": []
   },
   "source": [
    "## Importing the Dataset & performing simple EDA"
   ]
  },
  {
   "cell_type": "code",
   "execution_count": 2,
   "id": "addb3c61",
   "metadata": {
    "execution": {
     "iopub.execute_input": "2024-04-06T19:20:54.816092Z",
     "iopub.status.busy": "2024-04-06T19:20:54.815185Z",
     "iopub.status.idle": "2024-04-06T19:20:54.864381Z",
     "shell.execute_reply": "2024-04-06T19:20:54.862783Z"
    },
    "papermill": {
     "duration": 0.065655,
     "end_time": "2024-04-06T19:20:54.868278",
     "exception": false,
     "start_time": "2024-04-06T19:20:54.802623",
     "status": "completed"
    },
    "tags": []
   },
   "outputs": [
    {
     "data": {
      "text/html": [
       "<div>\n",
       "<style scoped>\n",
       "    .dataframe tbody tr th:only-of-type {\n",
       "        vertical-align: middle;\n",
       "    }\n",
       "\n",
       "    .dataframe tbody tr th {\n",
       "        vertical-align: top;\n",
       "    }\n",
       "\n",
       "    .dataframe thead th {\n",
       "        text-align: right;\n",
       "    }\n",
       "</style>\n",
       "<table border=\"1\" class=\"dataframe\">\n",
       "  <thead>\n",
       "    <tr style=\"text-align: right;\">\n",
       "      <th></th>\n",
       "      <th>PassengerId</th>\n",
       "      <th>Survived</th>\n",
       "      <th>Pclass</th>\n",
       "      <th>Name</th>\n",
       "      <th>Sex</th>\n",
       "      <th>Age</th>\n",
       "      <th>SibSp</th>\n",
       "      <th>Parch</th>\n",
       "      <th>Ticket</th>\n",
       "      <th>Fare</th>\n",
       "      <th>Cabin</th>\n",
       "      <th>Embarked</th>\n",
       "    </tr>\n",
       "  </thead>\n",
       "  <tbody>\n",
       "    <tr>\n",
       "      <th>0</th>\n",
       "      <td>1</td>\n",
       "      <td>0</td>\n",
       "      <td>3</td>\n",
       "      <td>Braund, Mr. Owen Harris</td>\n",
       "      <td>male</td>\n",
       "      <td>22.0</td>\n",
       "      <td>1</td>\n",
       "      <td>0</td>\n",
       "      <td>A/5 21171</td>\n",
       "      <td>7.2500</td>\n",
       "      <td>NaN</td>\n",
       "      <td>S</td>\n",
       "    </tr>\n",
       "    <tr>\n",
       "      <th>1</th>\n",
       "      <td>2</td>\n",
       "      <td>1</td>\n",
       "      <td>1</td>\n",
       "      <td>Cumings, Mrs. John Bradley (Florence Briggs Th...</td>\n",
       "      <td>female</td>\n",
       "      <td>38.0</td>\n",
       "      <td>1</td>\n",
       "      <td>0</td>\n",
       "      <td>PC 17599</td>\n",
       "      <td>71.2833</td>\n",
       "      <td>C85</td>\n",
       "      <td>C</td>\n",
       "    </tr>\n",
       "    <tr>\n",
       "      <th>2</th>\n",
       "      <td>3</td>\n",
       "      <td>1</td>\n",
       "      <td>3</td>\n",
       "      <td>Heikkinen, Miss. Laina</td>\n",
       "      <td>female</td>\n",
       "      <td>26.0</td>\n",
       "      <td>0</td>\n",
       "      <td>0</td>\n",
       "      <td>STON/O2. 3101282</td>\n",
       "      <td>7.9250</td>\n",
       "      <td>NaN</td>\n",
       "      <td>S</td>\n",
       "    </tr>\n",
       "    <tr>\n",
       "      <th>3</th>\n",
       "      <td>4</td>\n",
       "      <td>1</td>\n",
       "      <td>1</td>\n",
       "      <td>Futrelle, Mrs. Jacques Heath (Lily May Peel)</td>\n",
       "      <td>female</td>\n",
       "      <td>35.0</td>\n",
       "      <td>1</td>\n",
       "      <td>0</td>\n",
       "      <td>113803</td>\n",
       "      <td>53.1000</td>\n",
       "      <td>C123</td>\n",
       "      <td>S</td>\n",
       "    </tr>\n",
       "    <tr>\n",
       "      <th>4</th>\n",
       "      <td>5</td>\n",
       "      <td>0</td>\n",
       "      <td>3</td>\n",
       "      <td>Allen, Mr. William Henry</td>\n",
       "      <td>male</td>\n",
       "      <td>35.0</td>\n",
       "      <td>0</td>\n",
       "      <td>0</td>\n",
       "      <td>373450</td>\n",
       "      <td>8.0500</td>\n",
       "      <td>NaN</td>\n",
       "      <td>S</td>\n",
       "    </tr>\n",
       "  </tbody>\n",
       "</table>\n",
       "</div>"
      ],
      "text/plain": [
       "   PassengerId  Survived  Pclass  \\\n",
       "0            1         0       3   \n",
       "1            2         1       1   \n",
       "2            3         1       3   \n",
       "3            4         1       1   \n",
       "4            5         0       3   \n",
       "\n",
       "                                                Name     Sex   Age  SibSp  \\\n",
       "0                            Braund, Mr. Owen Harris    male  22.0      1   \n",
       "1  Cumings, Mrs. John Bradley (Florence Briggs Th...  female  38.0      1   \n",
       "2                             Heikkinen, Miss. Laina  female  26.0      0   \n",
       "3       Futrelle, Mrs. Jacques Heath (Lily May Peel)  female  35.0      1   \n",
       "4                           Allen, Mr. William Henry    male  35.0      0   \n",
       "\n",
       "   Parch            Ticket     Fare Cabin Embarked  \n",
       "0      0         A/5 21171   7.2500   NaN        S  \n",
       "1      0          PC 17599  71.2833   C85        C  \n",
       "2      0  STON/O2. 3101282   7.9250   NaN        S  \n",
       "3      0            113803  53.1000  C123        S  \n",
       "4      0            373450   8.0500   NaN        S  "
      ]
     },
     "execution_count": 2,
     "metadata": {},
     "output_type": "execute_result"
    }
   ],
   "source": [
    "titanic = pd.read_csv('/kaggle/input/titanic/train.csv')\n",
    "titanic.head()"
   ]
  },
  {
   "cell_type": "code",
   "execution_count": 3,
   "id": "b515f79a",
   "metadata": {
    "execution": {
     "iopub.execute_input": "2024-04-06T19:20:54.895306Z",
     "iopub.status.busy": "2024-04-06T19:20:54.894308Z",
     "iopub.status.idle": "2024-04-06T19:20:54.902477Z",
     "shell.execute_reply": "2024-04-06T19:20:54.900953Z"
    },
    "papermill": {
     "duration": 0.023743,
     "end_time": "2024-04-06T19:20:54.905035",
     "exception": false,
     "start_time": "2024-04-06T19:20:54.881292",
     "status": "completed"
    },
    "tags": []
   },
   "outputs": [
    {
     "data": {
      "text/plain": [
       "(891, 12)"
      ]
     },
     "execution_count": 3,
     "metadata": {},
     "output_type": "execute_result"
    }
   ],
   "source": [
    "# shape of the dataset\n",
    "titanic.shape"
   ]
  },
  {
   "cell_type": "code",
   "execution_count": 4,
   "id": "e9dbfc92",
   "metadata": {
    "execution": {
     "iopub.execute_input": "2024-04-06T19:20:54.930835Z",
     "iopub.status.busy": "2024-04-06T19:20:54.930049Z",
     "iopub.status.idle": "2024-04-06T19:20:54.963709Z",
     "shell.execute_reply": "2024-04-06T19:20:54.962377Z"
    },
    "papermill": {
     "duration": 0.049478,
     "end_time": "2024-04-06T19:20:54.966358",
     "exception": false,
     "start_time": "2024-04-06T19:20:54.916880",
     "status": "completed"
    },
    "tags": []
   },
   "outputs": [
    {
     "name": "stdout",
     "output_type": "stream",
     "text": [
      "<class 'pandas.core.frame.DataFrame'>\n",
      "RangeIndex: 891 entries, 0 to 890\n",
      "Data columns (total 12 columns):\n",
      " #   Column       Non-Null Count  Dtype  \n",
      "---  ------       --------------  -----  \n",
      " 0   PassengerId  891 non-null    int64  \n",
      " 1   Survived     891 non-null    int64  \n",
      " 2   Pclass       891 non-null    int64  \n",
      " 3   Name         891 non-null    object \n",
      " 4   Sex          891 non-null    object \n",
      " 5   Age          714 non-null    float64\n",
      " 6   SibSp        891 non-null    int64  \n",
      " 7   Parch        891 non-null    int64  \n",
      " 8   Ticket       891 non-null    object \n",
      " 9   Fare         891 non-null    float64\n",
      " 10  Cabin        204 non-null    object \n",
      " 11  Embarked     889 non-null    object \n",
      "dtypes: float64(2), int64(5), object(5)\n",
      "memory usage: 83.7+ KB\n"
     ]
    }
   ],
   "source": [
    "titanic.info()"
   ]
  },
  {
   "cell_type": "code",
   "execution_count": 5,
   "id": "7b0b0a1e",
   "metadata": {
    "execution": {
     "iopub.execute_input": "2024-04-06T19:20:54.993953Z",
     "iopub.status.busy": "2024-04-06T19:20:54.993087Z",
     "iopub.status.idle": "2024-04-06T19:20:55.004548Z",
     "shell.execute_reply": "2024-04-06T19:20:55.002667Z"
    },
    "papermill": {
     "duration": 0.027868,
     "end_time": "2024-04-06T19:20:55.007486",
     "exception": false,
     "start_time": "2024-04-06T19:20:54.979618",
     "status": "completed"
    },
    "tags": []
   },
   "outputs": [
    {
     "data": {
      "text/plain": [
       "PassengerId      0\n",
       "Survived         0\n",
       "Pclass           0\n",
       "Name             0\n",
       "Sex              0\n",
       "Age            177\n",
       "SibSp            0\n",
       "Parch            0\n",
       "Ticket           0\n",
       "Fare             0\n",
       "Cabin          687\n",
       "Embarked         2\n",
       "dtype: int64"
      ]
     },
     "execution_count": 5,
     "metadata": {},
     "output_type": "execute_result"
    }
   ],
   "source": [
    "# Missing Values\n",
    "titanic.isna().sum()"
   ]
  },
  {
   "cell_type": "code",
   "execution_count": 6,
   "id": "698150b3",
   "metadata": {
    "execution": {
     "iopub.execute_input": "2024-04-06T19:20:55.033915Z",
     "iopub.status.busy": "2024-04-06T19:20:55.033474Z",
     "iopub.status.idle": "2024-04-06T19:20:55.044251Z",
     "shell.execute_reply": "2024-04-06T19:20:55.043026Z"
    },
    "papermill": {
     "duration": 0.027224,
     "end_time": "2024-04-06T19:20:55.046916",
     "exception": false,
     "start_time": "2024-04-06T19:20:55.019692",
     "status": "completed"
    },
    "tags": []
   },
   "outputs": [
    {
     "data": {
      "text/plain": [
       "PassengerId     0.000000\n",
       "Survived        0.000000\n",
       "Pclass          0.000000\n",
       "Name            0.000000\n",
       "Sex             0.000000\n",
       "Age            19.865320\n",
       "SibSp           0.000000\n",
       "Parch           0.000000\n",
       "Ticket          0.000000\n",
       "Fare            0.000000\n",
       "Cabin          77.104377\n",
       "Embarked        0.224467\n",
       "dtype: float64"
      ]
     },
     "execution_count": 6,
     "metadata": {},
     "output_type": "execute_result"
    }
   ],
   "source": [
    "# Missing values (in percent)\n",
    "titanic.isnull().sum()/len(titanic)*100"
   ]
  },
  {
   "cell_type": "code",
   "execution_count": 7,
   "id": "749ba910",
   "metadata": {
    "execution": {
     "iopub.execute_input": "2024-04-06T19:20:55.073092Z",
     "iopub.status.busy": "2024-04-06T19:20:55.072692Z",
     "iopub.status.idle": "2024-04-06T19:20:55.357146Z",
     "shell.execute_reply": "2024-04-06T19:20:55.355541Z"
    },
    "papermill": {
     "duration": 0.301062,
     "end_time": "2024-04-06T19:20:55.360145",
     "exception": false,
     "start_time": "2024-04-06T19:20:55.059083",
     "status": "completed"
    },
    "tags": []
   },
   "outputs": [
    {
     "data": {
      "image/png": "[encoded data removed]",
      "text/plain": [
       "<Figure size 800x600 with 1 Axes>"
      ]
     },
     "metadata": {},
     "output_type": "display_data"
    }
   ],
   "source": [
    "plt.figure(figsize=(8, 6))\n",
    "sns.heatmap(titanic.isnull(), cmap='viridis', cbar=False, yticklabels=False)\n",
    "plt.show()"
   ]
  },
  {
   "cell_type": "code",
   "execution_count": 8,
   "id": "102bd0ef",
   "metadata": {
    "execution": {
     "iopub.execute_input": "2024-04-06T19:20:55.390276Z",
     "iopub.status.busy": "2024-04-06T19:20:55.389852Z",
     "iopub.status.idle": "2024-04-06T19:20:55.427811Z",
     "shell.execute_reply": "2024-04-06T19:20:55.426657Z"
    },
    "papermill": {
     "duration": 0.056302,
     "end_time": "2024-04-06T19:20:55.430469",
     "exception": false,
     "start_time": "2024-04-06T19:20:55.374167",
     "status": "completed"
    },
    "tags": []
   },
   "outputs": [
    {
     "data": {
      "text/html": [
       "<div>\n",
       "<style scoped>\n",
       "    .dataframe tbody tr th:only-of-type {\n",
       "        vertical-align: middle;\n",
       "    }\n",
       "\n",
       "    .dataframe tbody tr th {\n",
       "        vertical-align: top;\n",
       "    }\n",
       "\n",
       "    .dataframe thead th {\n",
       "        text-align: right;\n",
       "    }\n",
       "</style>\n",
       "<table border=\"1\" class=\"dataframe\">\n",
       "  <thead>\n",
       "    <tr style=\"text-align: right;\">\n",
       "      <th></th>\n",
       "      <th>PassengerId</th>\n",
       "      <th>Survived</th>\n",
       "      <th>Pclass</th>\n",
       "      <th>Age</th>\n",
       "      <th>SibSp</th>\n",
       "      <th>Parch</th>\n",
       "      <th>Fare</th>\n",
       "    </tr>\n",
       "  </thead>\n",
       "  <tbody>\n",
       "    <tr>\n",
       "      <th>count</th>\n",
       "      <td>891.000000</td>\n",
       "      <td>891.000000</td>\n",
       "      <td>891.000000</td>\n",
       "      <td>714.000000</td>\n",
       "      <td>891.000000</td>\n",
       "      <td>891.000000</td>\n",
       "      <td>891.000000</td>\n",
       "    </tr>\n",
       "    <tr>\n",
       "      <th>mean</th>\n",
       "      <td>446.000000</td>\n",
       "      <td>0.383838</td>\n",
       "      <td>2.308642</td>\n",
       "      <td>29.699118</td>\n",
       "      <td>0.523008</td>\n",
       "      <td>0.381594</td>\n",
       "      <td>32.204208</td>\n",
       "    </tr>\n",
       "    <tr>\n",
       "      <th>std</th>\n",
       "      <td>257.353842</td>\n",
       "      <td>0.486592</td>\n",
       "      <td>0.836071</td>\n",
       "      <td>14.526497</td>\n",
       "      <td>1.102743</td>\n",
       "      <td>0.806057</td>\n",
       "      <td>49.693429</td>\n",
       "    </tr>\n",
       "    <tr>\n",
       "      <th>min</th>\n",
       "      <td>1.000000</td>\n",
       "      <td>0.000000</td>\n",
       "      <td>1.000000</td>\n",
       "      <td>0.420000</td>\n",
       "      <td>0.000000</td>\n",
       "      <td>0.000000</td>\n",
       "      <td>0.000000</td>\n",
       "    </tr>\n",
       "    <tr>\n",
       "      <th>25%</th>\n",
       "      <td>223.500000</td>\n",
       "      <td>0.000000</td>\n",
       "      <td>2.000000</td>\n",
       "      <td>20.125000</td>\n",
       "      <td>0.000000</td>\n",
       "      <td>0.000000</td>\n",
       "      <td>7.910400</td>\n",
       "    </tr>\n",
       "    <tr>\n",
       "      <th>50%</th>\n",
       "      <td>446.000000</td>\n",
       "      <td>0.000000</td>\n",
       "      <td>3.000000</td>\n",
       "      <td>28.000000</td>\n",
       "      <td>0.000000</td>\n",
       "      <td>0.000000</td>\n",
       "      <td>14.454200</td>\n",
       "    </tr>\n",
       "    <tr>\n",
       "      <th>75%</th>\n",
       "      <td>668.500000</td>\n",
       "      <td>1.000000</td>\n",
       "      <td>3.000000</td>\n",
       "      <td>38.000000</td>\n",
       "      <td>1.000000</td>\n",
       "      <td>0.000000</td>\n",
       "      <td>31.000000</td>\n",
       "    </tr>\n",
       "    <tr>\n",
       "      <th>max</th>\n",
       "      <td>891.000000</td>\n",
       "      <td>1.000000</td>\n",
       "      <td>3.000000</td>\n",
       "      <td>80.000000</td>\n",
       "      <td>8.000000</td>\n",
       "      <td>6.000000</td>\n",
       "      <td>512.329200</td>\n",
       "    </tr>\n",
       "  </tbody>\n",
       "</table>\n",
       "</div>"
      ],
      "text/plain": [
       "       PassengerId    Survived      Pclass         Age       SibSp  \\\n",
       "count   891.000000  891.000000  891.000000  714.000000  891.000000   \n",
       "mean    446.000000    0.383838    2.308642   29.699118    0.523008   \n",
       "std     257.353842    0.486592    0.836071   14.526497    1.102743   \n",
       "min       1.000000    0.000000    1.000000    0.420000    0.000000   \n",
       "25%     223.500000    0.000000    2.000000   20.125000    0.000000   \n",
       "50%     446.000000    0.000000    3.000000   28.000000    0.000000   \n",
       "75%     668.500000    1.000000    3.000000   38.000000    1.000000   \n",
       "max     891.000000    1.000000    3.000000   80.000000    8.000000   \n",
       "\n",
       "            Parch        Fare  \n",
       "count  891.000000  891.000000  \n",
       "mean     0.381594   32.204208  \n",
       "std      0.806057   49.693429  \n",
       "min      0.000000    0.000000  \n",
       "25%      0.000000    7.910400  \n",
       "50%      0.000000   14.454200  \n",
       "75%      0.000000   31.000000  \n",
       "max      6.000000  512.329200  "
      ]
     },
     "execution_count": 8,
     "metadata": {},
     "output_type": "execute_result"
    }
   ],
   "source": [
    "# Describing the numerical & datetime values\n",
    "titanic.describe()"
   ]
  },
  {
   "cell_type": "code",
   "execution_count": 9,
   "id": "14039ff5",
   "metadata": {
    "execution": {
     "iopub.execute_input": "2024-04-06T19:20:55.460268Z",
     "iopub.status.busy": "2024-04-06T19:20:55.459856Z",
     "iopub.status.idle": "2024-04-06T19:20:55.483678Z",
     "shell.execute_reply": "2024-04-06T19:20:55.481926Z"
    },
    "papermill": {
     "duration": 0.042233,
     "end_time": "2024-04-06T19:20:55.486401",
     "exception": false,
     "start_time": "2024-04-06T19:20:55.444168",
     "status": "completed"
    },
    "tags": []
   },
   "outputs": [
    {
     "data": {
      "text/html": [
       "<div>\n",
       "<style scoped>\n",
       "    .dataframe tbody tr th:only-of-type {\n",
       "        vertical-align: middle;\n",
       "    }\n",
       "\n",
       "    .dataframe tbody tr th {\n",
       "        vertical-align: top;\n",
       "    }\n",
       "\n",
       "    .dataframe thead th {\n",
       "        text-align: right;\n",
       "    }\n",
       "</style>\n",
       "<table border=\"1\" class=\"dataframe\">\n",
       "  <thead>\n",
       "    <tr style=\"text-align: right;\">\n",
       "      <th></th>\n",
       "      <th>count</th>\n",
       "      <th>unique</th>\n",
       "      <th>top</th>\n",
       "      <th>freq</th>\n",
       "    </tr>\n",
       "  </thead>\n",
       "  <tbody>\n",
       "    <tr>\n",
       "      <th>Name</th>\n",
       "      <td>891</td>\n",
       "      <td>891</td>\n",
       "      <td>Braund, Mr. Owen Harris</td>\n",
       "      <td>1</td>\n",
       "    </tr>\n",
       "    <tr>\n",
       "      <th>Sex</th>\n",
       "      <td>891</td>\n",
       "      <td>2</td>\n",
       "      <td>male</td>\n",
       "      <td>577</td>\n",
       "    </tr>\n",
       "    <tr>\n",
       "      <th>Ticket</th>\n",
       "      <td>891</td>\n",
       "      <td>681</td>\n",
       "      <td>347082</td>\n",
       "      <td>7</td>\n",
       "    </tr>\n",
       "    <tr>\n",
       "      <th>Cabin</th>\n",
       "      <td>204</td>\n",
       "      <td>147</td>\n",
       "      <td>B96 B98</td>\n",
       "      <td>4</td>\n",
       "    </tr>\n",
       "    <tr>\n",
       "      <th>Embarked</th>\n",
       "      <td>889</td>\n",
       "      <td>3</td>\n",
       "      <td>S</td>\n",
       "      <td>644</td>\n",
       "    </tr>\n",
       "  </tbody>\n",
       "</table>\n",
       "</div>"
      ],
      "text/plain": [
       "         count unique                      top freq\n",
       "Name       891    891  Braund, Mr. Owen Harris    1\n",
       "Sex        891      2                     male  577\n",
       "Ticket     891    681                   347082    7\n",
       "Cabin      204    147                  B96 B98    4\n",
       "Embarked   889      3                        S  644"
      ]
     },
     "execution_count": 9,
     "metadata": {},
     "output_type": "execute_result"
    }
   ],
   "source": [
    "# Describing the numerical & datetime values\n",
    "titanic.describe(include='object').T"
   ]
  },
  {
   "cell_type": "markdown",
   "id": "059710e2",
   "metadata": {
    "papermill": {
     "duration": 0.013798,
     "end_time": "2024-04-06T19:20:55.513433",
     "exception": false,
     "start_time": "2024-04-06T19:20:55.499635",
     "status": "completed"
    },
    "tags": []
   },
   "source": [
    "### Inference\n",
    "* The dataset has a shape of (891, 12).\n",
    "* There are 3 columns with missing values: Age, Cabin, and Embarked.\n",
    "* We can handle missing values for Age and Embarked. However, since around 77.1% of rows are missing for Cabin, it would be wise to remove that column, as it does not impact the label column.\n",
    "* We can also remove the PassengerId, Ticket and Name columns.\n",
    "* Since there are only two rows with null values for the 'Embarked' column (i.e., 0.22% of dataset), we can safely remove them."
   ]
  },
  {
   "cell_type": "markdown",
   "id": "c7c6edc3",
   "metadata": {
    "papermill": {
     "duration": 0.013323,
     "end_time": "2024-04-06T19:20:55.540538",
     "exception": false,
     "start_time": "2024-04-06T19:20:55.527215",
     "status": "completed"
    },
    "tags": []
   },
   "source": [
    "## Dealing with Null Values and Dropping Unnecessary Columns"
   ]
  },
  {
   "cell_type": "code",
   "execution_count": 10,
   "id": "d3232947",
   "metadata": {
    "execution": {
     "iopub.execute_input": "2024-04-06T19:20:55.569807Z",
     "iopub.status.busy": "2024-04-06T19:20:55.568179Z",
     "iopub.status.idle": "2024-04-06T19:20:55.579520Z",
     "shell.execute_reply": "2024-04-06T19:20:55.578384Z"
    },
    "papermill": {
     "duration": 0.028335,
     "end_time": "2024-04-06T19:20:55.582126",
     "exception": false,
     "start_time": "2024-04-06T19:20:55.553791",
     "status": "completed"
    },
    "tags": []
   },
   "outputs": [],
   "source": [
    "titanic.drop(['Cabin', 'PassengerId', 'Name', 'Ticket'], axis=1, inplace=True)"
   ]
  },
  {
   "cell_type": "code",
   "execution_count": 11,
   "id": "2fb3dc92",
   "metadata": {
    "execution": {
     "iopub.execute_input": "2024-04-06T19:20:55.611846Z",
     "iopub.status.busy": "2024-04-06T19:20:55.611205Z",
     "iopub.status.idle": "2024-04-06T19:20:55.621612Z",
     "shell.execute_reply": "2024-04-06T19:20:55.620356Z"
    },
    "papermill": {
     "duration": 0.028509,
     "end_time": "2024-04-06T19:20:55.624537",
     "exception": false,
     "start_time": "2024-04-06T19:20:55.596028",
     "status": "completed"
    },
    "tags": []
   },
   "outputs": [],
   "source": [
    "titanic.dropna(subset=['Embarked'],inplace=True)"
   ]
  },
  {
   "cell_type": "code",
   "execution_count": 12,
   "id": "c4d70a9e",
   "metadata": {
    "execution": {
     "iopub.execute_input": "2024-04-06T19:20:55.653618Z",
     "iopub.status.busy": "2024-04-06T19:20:55.653094Z",
     "iopub.status.idle": "2024-04-06T19:20:56.007630Z",
     "shell.execute_reply": "2024-04-06T19:20:56.006380Z"
    },
    "papermill": {
     "duration": 0.372494,
     "end_time": "2024-04-06T19:20:56.010267",
     "exception": false,
     "start_time": "2024-04-06T19:20:55.637773",
     "status": "completed"
    },
    "tags": []
   },
   "outputs": [
    {
     "name": "stderr",
     "output_type": "stream",
     "text": [
      "/opt/conda/lib/python3.10/site-packages/seaborn/_oldcore.py:1119: FutureWarning: use_inf_as_na option is deprecated and will be removed in a future version. Convert inf values to NaN before operating instead.\n",
      "  with pd.option_context('mode.use_inf_as_na', True):\n"
     ]
    },
    {
     "data": {
      "image/png": "[encoded data removed]",
      "text/plain": [
       "<Figure size 640x480 with 1 Axes>"
      ]
     },
     "metadata": {},
     "output_type": "display_data"
    }
   ],
   "source": [
    "# Inorder to replace null values in Age column, we can draw boxplot or kdeplot\n",
    "sns.kdeplot(data=titanic, x='Age', color='skyblue')  \n",
    "plt.xlabel('Age')\n",
    "plt.ylabel('Frequency')\n",
    "plt.title('Histogram of Age')\n",
    "plt.show()"
   ]
  },
  {
   "cell_type": "markdown",
   "id": "2e01ed39",
   "metadata": {
    "papermill": {
     "duration": 0.014495,
     "end_time": "2024-04-06T19:20:56.039144",
     "exception": false,
     "start_time": "2024-04-06T19:20:56.024649",
     "status": "completed"
    },
    "tags": []
   },
   "source": [
    "### Inference\n",
    "The distribution appears to be right-skewed, so it would be more appropriate to use the median instead of the mean."
   ]
  },
  {
   "cell_type": "code",
   "execution_count": 13,
   "id": "19640a1b",
   "metadata": {
    "execution": {
     "iopub.execute_input": "2024-04-06T19:20:56.072027Z",
     "iopub.status.busy": "2024-04-06T19:20:56.071108Z",
     "iopub.status.idle": "2024-04-06T19:20:56.081925Z",
     "shell.execute_reply": "2024-04-06T19:20:56.080743Z"
    },
    "papermill": {
     "duration": 0.029772,
     "end_time": "2024-04-06T19:20:56.084487",
     "exception": false,
     "start_time": "2024-04-06T19:20:56.054715",
     "status": "completed"
    },
    "tags": []
   },
   "outputs": [],
   "source": [
    "imputer = SimpleImputer(strategy='median')\n",
    "titanic['Age'] = imputer.fit_transform(titanic[['Age']])"
   ]
  },
  {
   "cell_type": "code",
   "execution_count": 14,
   "id": "34a2a308",
   "metadata": {
    "execution": {
     "iopub.execute_input": "2024-04-06T19:20:56.115179Z",
     "iopub.status.busy": "2024-04-06T19:20:56.114344Z",
     "iopub.status.idle": "2024-04-06T19:20:56.126532Z",
     "shell.execute_reply": "2024-04-06T19:20:56.125080Z"
    },
    "papermill": {
     "duration": 0.03086,
     "end_time": "2024-04-06T19:20:56.129217",
     "exception": false,
     "start_time": "2024-04-06T19:20:56.098357",
     "status": "completed"
    },
    "tags": []
   },
   "outputs": [
    {
     "name": "stdout",
     "output_type": "stream",
     "text": [
      "<class 'pandas.core.frame.DataFrame'>\n",
      "Index: 889 entries, 0 to 890\n",
      "Data columns (total 8 columns):\n",
      " #   Column    Non-Null Count  Dtype  \n",
      "---  ------    --------------  -----  \n",
      " 0   Survived  889 non-null    int64  \n",
      " 1   Pclass    889 non-null    int64  \n",
      " 2   Sex       889 non-null    object \n",
      " 3   Age       889 non-null    float64\n",
      " 4   SibSp     889 non-null    int64  \n",
      " 5   Parch     889 non-null    int64  \n",
      " 6   Fare      889 non-null    float64\n",
      " 7   Embarked  889 non-null    object \n",
      "dtypes: float64(2), int64(4), object(2)\n",
      "memory usage: 62.5+ KB\n"
     ]
    }
   ],
   "source": [
    "# Missing Values\n",
    "titanic.info()"
   ]
  },
  {
   "cell_type": "markdown",
   "id": "f067c4c3",
   "metadata": {
    "papermill": {
     "duration": 0.013685,
     "end_time": "2024-04-06T19:20:56.156870",
     "exception": false,
     "start_time": "2024-04-06T19:20:56.143185",
     "status": "completed"
    },
    "tags": []
   },
   "source": [
    "### Dealing with Outliers"
   ]
  },
  {
   "cell_type": "code",
   "execution_count": 15,
   "id": "6729378b",
   "metadata": {
    "execution": {
     "iopub.execute_input": "2024-04-06T19:20:56.188466Z",
     "iopub.status.busy": "2024-04-06T19:20:56.187666Z",
     "iopub.status.idle": "2024-04-06T19:20:56.635765Z",
     "shell.execute_reply": "2024-04-06T19:20:56.634380Z"
    },
    "papermill": {
     "duration": 0.468386,
     "end_time": "2024-04-06T19:20:56.639657",
     "exception": false,
     "start_time": "2024-04-06T19:20:56.171271",
     "status": "completed"
    },
    "tags": []
   },
   "outputs": [
    {
     "data": {
      "image/png": "[encoded data removed]",
      "text/plain": [
       "<Figure size 1200x1000 with 3 Axes>"
      ]
     },
     "metadata": {},
     "output_type": "display_data"
    }
   ],
   "source": [
    "fig, axis = plt.subplots(nrows=3,ncols=1,figsize=(12, 10))\n",
    "\n",
    "sns.boxplot(data=titanic, x=\"Age\", ax=axis[0])\n",
    "sns.boxplot(data=titanic, x=\"SibSp\", ax=axis[1])\n",
    "sns.boxplot(data=titanic, x=\"Fare\", ax=axis[2])\n",
    "plt.show()"
   ]
  },
  {
   "cell_type": "markdown",
   "id": "1b77042d",
   "metadata": {
    "papermill": {
     "duration": 0.015187,
     "end_time": "2024-04-06T19:20:56.670145",
     "exception": false,
     "start_time": "2024-04-06T19:20:56.654958",
     "status": "completed"
    },
    "tags": []
   },
   "source": [
    "### Inference\n",
    "Both the 'Fare' and 'SibSp' columns exhibit the most outliers. However, for the 'Fare' column, it is important to note that the highest fare was paid by a male and a female, both from Class 1. These individuals likely had the means to pay high fares, so their values should not be considered outliers solely based on the fare amount."
   ]
  },
  {
   "cell_type": "markdown",
   "id": "4d783384",
   "metadata": {
    "papermill": {
     "duration": 0.01458,
     "end_time": "2024-04-06T19:20:56.699676",
     "exception": false,
     "start_time": "2024-04-06T19:20:56.685096",
     "status": "completed"
    },
    "tags": []
   },
   "source": [
    "## Univariate Analysis"
   ]
  },
  {
   "cell_type": "markdown",
   "id": "dddf7d78",
   "metadata": {
    "papermill": {
     "duration": 0.015507,
     "end_time": "2024-04-06T19:20:56.730022",
     "exception": false,
     "start_time": "2024-04-06T19:20:56.714515",
     "status": "completed"
    },
    "tags": []
   },
   "source": [
    "### Pclass Column"
   ]
  },
  {
   "cell_type": "code",
   "execution_count": 16,
   "id": "91b1d541",
   "metadata": {
    "execution": {
     "iopub.execute_input": "2024-04-06T19:20:56.762760Z",
     "iopub.status.busy": "2024-04-06T19:20:56.762061Z",
     "iopub.status.idle": "2024-04-06T19:20:56.772743Z",
     "shell.execute_reply": "2024-04-06T19:20:56.771356Z"
    },
    "papermill": {
     "duration": 0.029748,
     "end_time": "2024-04-06T19:20:56.775380",
     "exception": false,
     "start_time": "2024-04-06T19:20:56.745632",
     "status": "completed"
    },
    "tags": []
   },
   "outputs": [
    {
     "data": {
      "text/plain": [
       "Pclass\n",
       "3    491\n",
       "1    214\n",
       "2    184\n",
       "Name: count, dtype: int64"
      ]
     },
     "execution_count": 16,
     "metadata": {},
     "output_type": "execute_result"
    }
   ],
   "source": [
    "titanic['Pclass'].value_counts()"
   ]
  },
  {
   "cell_type": "code",
   "execution_count": 17,
   "id": "6a19ce97",
   "metadata": {
    "execution": {
     "iopub.execute_input": "2024-04-06T19:20:56.809254Z",
     "iopub.status.busy": "2024-04-06T19:20:56.808616Z",
     "iopub.status.idle": "2024-04-06T19:20:57.008938Z",
     "shell.execute_reply": "2024-04-06T19:20:57.007345Z"
    },
    "papermill": {
     "duration": 0.234958,
     "end_time": "2024-04-06T19:20:57.025924",
     "exception": false,
     "start_time": "2024-04-06T19:20:56.790966",
     "status": "completed"
    },
    "tags": []
   },
   "outputs": [
    {
     "data": {
      "image/png": "[encoded data removed]",
      "text/plain": [
       "<Figure size 640x480 with 1 Axes>"
      ]
     },
     "metadata": {},
     "output_type": "display_data"
    }
   ],
   "source": [
    "titanic['Pclass'].value_counts().plot(kind='pie',autopct=\"%.1f\")\n",
    "plt.xlabel('Pclass Column')\n",
    "plt.title('Piechart of Pclass Column')\n",
    "plt.show()"
   ]
  },
  {
   "cell_type": "markdown",
   "id": "22d951e8",
   "metadata": {
    "papermill": {
     "duration": 0.025852,
     "end_time": "2024-04-06T19:20:57.086724",
     "exception": false,
     "start_time": "2024-04-06T19:20:57.060872",
     "status": "completed"
    },
    "tags": []
   },
   "source": [
    "### Sex Column"
   ]
  },
  {
   "cell_type": "code",
   "execution_count": 18,
   "id": "b9c6e31a",
   "metadata": {
    "execution": {
     "iopub.execute_input": "2024-04-06T19:20:57.118849Z",
     "iopub.status.busy": "2024-04-06T19:20:57.118440Z",
     "iopub.status.idle": "2024-04-06T19:20:57.128109Z",
     "shell.execute_reply": "2024-04-06T19:20:57.127194Z"
    },
    "papermill": {
     "duration": 0.028105,
     "end_time": "2024-04-06T19:20:57.130356",
     "exception": false,
     "start_time": "2024-04-06T19:20:57.102251",
     "status": "completed"
    },
    "tags": []
   },
   "outputs": [
    {
     "data": {
      "text/plain": [
       "Sex\n",
       "male      577\n",
       "female    312\n",
       "Name: count, dtype: int64"
      ]
     },
     "execution_count": 18,
     "metadata": {},
     "output_type": "execute_result"
    }
   ],
   "source": [
    "titanic['Sex'].value_counts()"
   ]
  },
  {
   "cell_type": "code",
   "execution_count": 19,
   "id": "a1141aab",
   "metadata": {
    "execution": {
     "iopub.execute_input": "2024-04-06T19:20:57.162631Z",
     "iopub.status.busy": "2024-04-06T19:20:57.161971Z",
     "iopub.status.idle": "2024-04-06T19:20:57.431232Z",
     "shell.execute_reply": "2024-04-06T19:20:57.430023Z"
    },
    "papermill": {
     "duration": 0.28866,
     "end_time": "2024-04-06T19:20:57.434043",
     "exception": false,
     "start_time": "2024-04-06T19:20:57.145383",
     "status": "completed"
    },
    "tags": []
   },
   "outputs": [
    {
     "data": {
      "image/png": "[encoded data removed]",
      "text/plain": [
       "<Figure size 600x600 with 1 Axes>"
      ]
     },
     "metadata": {},
     "output_type": "display_data"
    }
   ],
   "source": [
    "plt.figure(figsize=(6, 6))\n",
    "sns.countplot(x='Sex', data=titanic, palette='Blues')\n",
    "plt.xlabel('Sex')\n",
    "plt.ylabel('Count')\n",
    "plt.title('Countplot of Sex Column')\n",
    "plt.show()"
   ]
  },
  {
   "cell_type": "markdown",
   "id": "17e52f8a",
   "metadata": {
    "papermill": {
     "duration": 0.015475,
     "end_time": "2024-04-06T19:20:57.464947",
     "exception": false,
     "start_time": "2024-04-06T19:20:57.449472",
     "status": "completed"
    },
    "tags": []
   },
   "source": [
    "### Age Column"
   ]
  },
  {
   "cell_type": "code",
   "execution_count": 20,
   "id": "843ef8e1",
   "metadata": {
    "execution": {
     "iopub.execute_input": "2024-04-06T19:20:57.498141Z",
     "iopub.status.busy": "2024-04-06T19:20:57.497719Z",
     "iopub.status.idle": "2024-04-06T19:20:57.513175Z",
     "shell.execute_reply": "2024-04-06T19:20:57.511961Z"
    },
    "papermill": {
     "duration": 0.035071,
     "end_time": "2024-04-06T19:20:57.515696",
     "exception": false,
     "start_time": "2024-04-06T19:20:57.480625",
     "status": "completed"
    },
    "tags": []
   },
   "outputs": [
    {
     "data": {
      "text/plain": [
       "Age_Category\n",
       "Young       448\n",
       "Mid-aged    166\n",
       "Old          99\n",
       "Name: count, dtype: int64"
      ]
     },
     "execution_count": 20,
     "metadata": {},
     "output_type": "execute_result"
    }
   ],
   "source": [
    "titanic['Age_Category']=pd.cut(titanic['Age'],bins=[17,29,39,50],labels=['Young','Mid-aged','Old'])\n",
    "\n",
    "titanic['Age_Category'].value_counts()"
   ]
  },
  {
   "cell_type": "code",
   "execution_count": 21,
   "id": "0d91720a",
   "metadata": {
    "execution": {
     "iopub.execute_input": "2024-04-06T19:20:57.550427Z",
     "iopub.status.busy": "2024-04-06T19:20:57.549985Z",
     "iopub.status.idle": "2024-04-06T19:20:57.812494Z",
     "shell.execute_reply": "2024-04-06T19:20:57.811286Z"
    },
    "papermill": {
     "duration": 0.28328,
     "end_time": "2024-04-06T19:20:57.815139",
     "exception": false,
     "start_time": "2024-04-06T19:20:57.531859",
     "status": "completed"
    },
    "tags": []
   },
   "outputs": [
    {
     "name": "stderr",
     "output_type": "stream",
     "text": [
      "/opt/conda/lib/python3.10/site-packages/seaborn/categorical.py:641: FutureWarning: The default of observed=False is deprecated and will be changed to True in a future version of pandas. Pass observed=False to retain current behavior or observed=True to adopt the future default and silence this warning.\n",
      "  grouped_vals = vals.groupby(grouper)\n"
     ]
    },
    {
     "data": {
      "image/png": "[encoded data removed]",
      "text/plain": [
       "<Figure size 640x480 with 1 Axes>"
      ]
     },
     "metadata": {},
     "output_type": "display_data"
    }
   ],
   "source": [
    "sns.countplot(x='Age_Category', data=titanic, palette='Blues')\n",
    "plt.xlabel('Age Category')\n",
    "plt.ylabel('Count')\n",
    "plt.title('Distribution of Dataset based on Age')\n",
    "plt.show()"
   ]
  },
  {
   "cell_type": "markdown",
   "id": "aa9d35f2",
   "metadata": {
    "papermill": {
     "duration": 0.016236,
     "end_time": "2024-04-06T19:20:57.847534",
     "exception": false,
     "start_time": "2024-04-06T19:20:57.831298",
     "status": "completed"
    },
    "tags": []
   },
   "source": [
    "### Embarked Column"
   ]
  },
  {
   "cell_type": "code",
   "execution_count": 22,
   "id": "b8a3e161",
   "metadata": {
    "execution": {
     "iopub.execute_input": "2024-04-06T19:20:57.884018Z",
     "iopub.status.busy": "2024-04-06T19:20:57.883030Z",
     "iopub.status.idle": "2024-04-06T19:20:57.893722Z",
     "shell.execute_reply": "2024-04-06T19:20:57.892815Z"
    },
    "papermill": {
     "duration": 0.032071,
     "end_time": "2024-04-06T19:20:57.896479",
     "exception": false,
     "start_time": "2024-04-06T19:20:57.864408",
     "status": "completed"
    },
    "tags": []
   },
   "outputs": [
    {
     "data": {
      "text/plain": [
       "Embarked\n",
       "S    644\n",
       "C    168\n",
       "Q     77\n",
       "Name: count, dtype: int64"
      ]
     },
     "execution_count": 22,
     "metadata": {},
     "output_type": "execute_result"
    }
   ],
   "source": [
    "titanic['Embarked'].value_counts()"
   ]
  },
  {
   "cell_type": "code",
   "execution_count": 23,
   "id": "63bf854b",
   "metadata": {
    "execution": {
     "iopub.execute_input": "2024-04-06T19:20:57.931817Z",
     "iopub.status.busy": "2024-04-06T19:20:57.930896Z",
     "iopub.status.idle": "2024-04-06T19:20:58.136034Z",
     "shell.execute_reply": "2024-04-06T19:20:58.134846Z"
    },
    "papermill": {
     "duration": 0.225766,
     "end_time": "2024-04-06T19:20:58.138940",
     "exception": false,
     "start_time": "2024-04-06T19:20:57.913174",
     "status": "completed"
    },
    "tags": []
   },
   "outputs": [
    {
     "data": {
      "image/png": "[encoded data removed]",
      "text/plain": [
       "<Figure size 640x480 with 1 Axes>"
      ]
     },
     "metadata": {},
     "output_type": "display_data"
    }
   ],
   "source": [
    "sns.countplot(x='Embarked', data=titanic, palette='Blues')\n",
    "plt.xlabel('Port of Embarkation')\n",
    "plt.ylabel('Count')\n",
    "plt.title('Distribution of Dataset based on Embarkation')\n",
    "plt.show()"
   ]
  },
  {
   "cell_type": "markdown",
   "id": "9940b82e",
   "metadata": {
    "papermill": {
     "duration": 0.017055,
     "end_time": "2024-04-06T19:20:58.172940",
     "exception": false,
     "start_time": "2024-04-06T19:20:58.155885",
     "status": "completed"
    },
    "tags": []
   },
   "source": [
    "### Inference\n",
    "* Most of the people came from the 3rd class, accounting for 55.2% of the total, followed by the 1st class at 24.1% and the 2nd class at 20.7%.\n",
    "* The majority of the people are male, constituting 64.9% (577/889) of the total passengers.\n",
    "* Based on the age category column, the majority of passengers were young, representing 50.4% (448/889) of the total.\n",
    "* Most of the passengers embarked from Southampton, comprising 72.5% (644/889) of the total."
   ]
  },
  {
   "cell_type": "code",
   "execution_count": null,
   "id": "9d90be00",
   "metadata": {
    "papermill": {
     "duration": 0.016848,
     "end_time": "2024-04-06T19:20:58.207554",
     "exception": false,
     "start_time": "2024-04-06T19:20:58.190706",
     "status": "completed"
    },
    "tags": []
   },
   "outputs": [],
   "source": []
  }
 ],
 "metadata": {
  "kaggle": {
   "accelerator": "none",
   "dataSources": [
    {
     "databundleVersionId": 26502,
     "sourceId": 3136,
     "sourceType": "competition"
    }
   ],
   "dockerImageVersionId": 30673,
   "isGpuEnabled": false,
   "isInternetEnabled": false,
   "language": "python",
   "sourceType": "notebook"
  },
  "kernelspec": {
   "display_name": "Python 3",
   "language": "python",
   "name": "python3"
  },
  "language_info": {
   "codemirror_mode": {
    "name": "ipython",
    "version": 3
   },
   "file_extension": ".py",
   "mimetype": "text/x-python",
   "name": "python",
   "nbconvert_exporter": "python",
   "pygments_lexer": "ipython3",
   "version": "3.10.13"
  },
  "papermill": {
   "default_parameters": {},
   "duration": 11.015976,
   "end_time": "2024-04-06T19:20:58.948077",
   "environment_variables": {},
   "exception": null,
   "input_path": "__notebook__.ipynb",
   "output_path": "__notebook__.ipynb",
   "parameters": {},
   "start_time": "2024-04-06T19:20:47.932101",
   "version": "2.5.0"
  }
 },
 "nbformat": 4,
 "nbformat_minor": 5
}
